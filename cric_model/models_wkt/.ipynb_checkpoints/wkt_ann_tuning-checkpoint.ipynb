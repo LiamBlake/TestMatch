{
 "cells": [
  {
   "cell_type": "code",
   "execution_count": 1,
   "metadata": {},
   "outputs": [],
   "source": [
    "# Imports\n",
    "import os, sys, inspect\n",
    "current_dir = os.path.dirname(os.path.abspath(inspect.getfile(inspect.currentframe())))\n",
    "parent_dir = os.path.dirname(current_dir)\n",
    "sys.path.insert(0, parent_dir)\n",
    "\n",
    "import numpy as np\n",
    "from pandas import read_csv, DataFrame\n",
    "from keras import models, layers, initializers\n",
    "from keras.wrappers.scikit_learn import KerasClassifier\n",
    "import keras.metrics as km\n",
    "import keras.backend as kb\n",
    "from keras.callbacks import EarlyStopping\n",
    "import matplotlib.pyplot as plt\n",
    "\n",
    "from sklearn.metrics import roc_curve, auc\n",
    "from sklearn.model_selection import GridSearchCV, PredefinedSplit\n",
    "\n",
    "import preprocess as p"
   ]
  },
  {
   "cell_type": "code",
   "execution_count": 2,
   "metadata": {},
   "outputs": [],
   "source": [
    "# Classification metrics\n",
    "METRICS = [\n",
    "      km.TruePositives(name='tp'),\n",
    "      km.FalsePositives(name='fp'),\n",
    "      km.TrueNegatives(name='tn'),\n",
    "      km.FalseNegatives(name='fn'), \n",
    "      km.BinaryAccuracy(name='accuracy'),\n",
    "      km.Precision(name='precision'),\n",
    "      km.Recall(name='recall'),\n",
    "      km.AUC(name='auc')]\n",
    "\n",
    "\n",
    "# Visualises results of a grid search\n",
    "def plot_gs_results(grid_result, ignore = [None]):\n",
    "    dine = \n",
    "    if dim == 1:\n",
    "        pass\n",
    "    elif dim == 2:\n",
    "        pass\n",
    "    \n",
    "    \n",
    "    "
   ]
  },
  {
   "cell_type": "markdown",
   "metadata": {},
   "source": [
    "# Load Training Data"
   ]
  },
  {
   "cell_type": "code",
   "execution_count": 3,
   "metadata": {},
   "outputs": [],
   "source": [
    "# Load data\n",
    "train_pred = read_csv(\"../data/is_wkt_train_preds.csv\")\n",
    "train_out = read_csv(\"../data/is_wkt_train_labs.csv\")\n",
    "\n",
    "# Preprocess\n",
    "train_x, means, sds = p.standardise(p.split_new_ball(train_pred.to_numpy()))\n",
    "train_y = (train_out.to_numpy())[:,1]\n",
    "\n",
    "# Validation set\n",
    "val_prop = int(np.ceil(train_x.shape[0]/10))\n",
    "x_val = train_x[:val_prop]\n",
    "partial_x_train = train_x[val_prop:]\n",
    "y_val = train_y[:val_prop]\n",
    "partial_y_train = train_y[val_prop:]\n",
    "\n",
    "# Split indicator\n",
    "split_index = [-1 if x > val_prop else 0 for x in range(train_x.shape[0])]\n",
    "pds = PredefinedSplit(test_fold = split_index)\n",
    "\n",
    "INPUT_DIM = train_x.shape[1]"
   ]
  },
  {
   "cell_type": "markdown",
   "metadata": {},
   "source": [
    "# Epochs & Batch Size"
   ]
  },
  {
   "cell_type": "markdown",
   "metadata": {},
   "source": [
    "## Model Wrapper"
   ]
  },
  {
   "cell_type": "code",
   "execution_count": 4,
   "metadata": {},
   "outputs": [],
   "source": [
    "def build_model():\n",
    "       \n",
    "    model = models.Sequential([\n",
    "    layers.Dense(32, activation='relu', input_shape=(INPUT_DIM,)),\n",
    "    layers.Dense(32, activation='relu'),\n",
    "    layers.Dense(1, activation='sigmoid')\n",
    "    ])\n",
    "\n",
    "    model.compile(\n",
    "    optimizer='rmsprop',\n",
    "    loss='binary_crossentropy',\n",
    "    metrics=METRICS)\n",
    "\n",
    "    return model\n",
    "\n",
    "model = KerasClassifier(build_fn=build_model, verbose = 0)\n",
    "\n",
    "# Scaled initial weights\n",
    "neg, pos = np.bincount(train_y)\n",
    "total = neg + pos\n",
    "weight_for_0 = (1 / neg)*(total)/2.0 \n",
    "weight_for_1 = (1 / pos)*(total)/2.0\n",
    "class_weight = {0: weight_for_0, 1: weight_for_1}"
   ]
  },
  {
   "cell_type": "markdown",
   "metadata": {},
   "source": [
    "## Grid Searches"
   ]
  },
  {
   "cell_type": "code",
   "execution_count": 6,
   "metadata": {},
   "outputs": [],
   "source": [
    "# epochs, batch_size search 1\n",
    "param_grid = dict(batch_size = [16,64,128,512,1024,4096,8192],\n",
    "                  epochs = [10,50,100,200])\n",
    "\n",
    "# Guard to prevent this code from being run accidentially - it takes a rather long time\n",
    "\n",
    "if False:\n",
    "    grid = GridSearchCV(estimator=model, param_grid=param_grid, n_jobs=1, cv=pds, refit=False)\n",
    "    grid_result = grid.fit(train_x, train_y, class_weight = class_weight)"
   ]
  },
  {
   "cell_type": "code",
   "execution_count": 8,
   "metadata": {},
   "outputs": [
    {
     "name": "stdout",
     "output_type": "stream",
     "text": [
      "Best: 0.801259 using {'batch_size': 512, 'epochs': 100}\n",
      "0.673224 (0.000000) with: {'batch_size': 16, 'epochs': 10}\n",
      "0.731364 (0.000000) with: {'batch_size': 16, 'epochs': 50}\n",
      "0.363927 (0.000000) with: {'batch_size': 16, 'epochs': 100}\n",
      "0.448231 (0.000000) with: {'batch_size': 16, 'epochs': 200}\n",
      "0.238195 (0.000000) with: {'batch_size': 64, 'epochs': 10}\n",
      "0.478080 (0.000000) with: {'batch_size': 64, 'epochs': 50}\n",
      "0.592495 (0.000000) with: {'batch_size': 64, 'epochs': 100}\n",
      "0.414106 (0.000000) with: {'batch_size': 64, 'epochs': 200}\n",
      "0.541110 (0.000000) with: {'batch_size': 128, 'epochs': 10}\n",
      "0.462508 (0.000000) with: {'batch_size': 128, 'epochs': 50}\n",
      "0.645964 (0.000000) with: {'batch_size': 128, 'epochs': 100}\n",
      "0.677106 (0.000000) with: {'batch_size': 128, 'epochs': 200}\n",
      "0.589447 (0.000000) with: {'batch_size': 512, 'epochs': 10}\n",
      "0.550606 (0.000000) with: {'batch_size': 512, 'epochs': 50}\n",
      "0.801259 (0.000000) with: {'batch_size': 512, 'epochs': 100}\n",
      "0.657236 (0.000000) with: {'batch_size': 512, 'epochs': 200}\n",
      "0.665548 (0.000000) with: {'batch_size': 1024, 'epochs': 10}\n",
      "0.599228 (0.000000) with: {'batch_size': 1024, 'epochs': 50}\n",
      "0.679540 (0.000000) with: {'batch_size': 1024, 'epochs': 100}\n",
      "0.685264 (0.000000) with: {'batch_size': 1024, 'epochs': 200}\n",
      "0.673531 (0.000000) with: {'batch_size': 4096, 'epochs': 10}\n",
      "0.570169 (0.000000) with: {'batch_size': 4096, 'epochs': 50}\n",
      "0.634691 (0.000000) with: {'batch_size': 4096, 'epochs': 100}\n",
      "0.711341 (0.000000) with: {'batch_size': 4096, 'epochs': 200}\n",
      "0.547470 (0.000000) with: {'batch_size': 8192, 'epochs': 10}\n",
      "0.695440 (0.000000) with: {'batch_size': 8192, 'epochs': 50}\n",
      "0.706691 (0.000000) with: {'batch_size': 8192, 'epochs': 100}\n",
      "0.639647 (0.000000) with: {'batch_size': 8192, 'epochs': 200}\n"
     ]
    }
   ],
   "source": [
    "print(\"Best: %f using %s\" % (grid_result.best_score_, grid_result.best_params_))\n",
    "means = grid_result.cv_results_['mean_test_score']\n",
    "stds = grid_result.cv_results_['std_test_score']\n",
    "params = grid_result.cv_results_['params']\n",
    "for mean, stdev, param in zip(means, stds, params):\n",
    "    print(\"%f (%f) with: %r\" % (mean, stdev, param))"
   ]
  },
  {
   "cell_type": "code",
   "execution_count": 28,
   "metadata": {},
   "outputs": [
    {
     "data": {
      "image/png": "[encoded data removed]",
      "text/plain": [
       "<Figure size 1200x800 with 2 Axes>"
      ]
     },
     "metadata": {},
     "output_type": "display_data"
    }
   ],
   "source": [
    "fig=plt.figure(figsize=(12,8), dpi= 100, facecolor='w', edgecolor='k')\n",
    "gs_res = grid_result.cv_results_\n",
    "plt.scatter(x = gs_res['param_epochs'], y = gs_res['param_batch_size'], c=gs_res['mean_test_score'], cmap=plt.get_cmap('YlOrBr'))\n",
    "plt.xlabel('No. Epochs')\n",
    "plt.ylabel('Batch Size')\n",
    "plt.yscale(\"log\", basey = 2)\n",
    "cb = plt.colorbar()\n",
    "cb.set_label(\"Mean Accuracy???\")\n",
    "#plt.gray()\n",
    "plt.show()"
   ]
  }
 ],
 "metadata": {
  "kernelspec": {
   "display_name": "Python 3",
   "language": "python",
   "name": "python3"
  },
  "language_info": {
   "codemirror_mode": {
    "name": "ipython",
    "version": 3
   },
   "file_extension": ".py",
   "mimetype": "text/x-python",
   "name": "python",
   "nbconvert_exporter": "python",
   "pygments_lexer": "ipython3",
   "version": "3.7.6"
  }
 },
 "nbformat": 4,
 "nbformat_minor": 4
}
