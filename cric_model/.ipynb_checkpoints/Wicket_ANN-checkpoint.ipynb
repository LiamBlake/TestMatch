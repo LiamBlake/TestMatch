{
 "cells": [
  {
   "cell_type": "code",
   "execution_count": 1,
   "metadata": {},
   "outputs": [
    {
     "name": "stderr",
     "output_type": "stream",
     "text": [
      "Using TensorFlow backend.\n"
     ]
    }
   ],
   "source": [
    "import numpy as np\n",
    "from pandas import read_csv, DataFrame\n",
    "from keras import models, layers, initializers\n",
    "import keras.metrics as km\n",
    "import keras.backend as kb\n",
    "import matplotlib.pyplot as plt\n",
    "#import keras2onnx\n",
    "from sklearn.metrics import roc_curve, auc\n",
    "from keras.utils import normalize\n",
    "from scipy import interp\n",
    "from scipy.stats import boxcox\n",
    "from itertools import cycle"
   ]
  },
  {
   "cell_type": "code",
   "execution_count": 3,
   "metadata": {},
   "outputs": [],
   "source": [
    "#Global variables\n",
    "PREDS_NUM = [\"match_balls\", \"inn_balls\", \"team_score\", \"team_lead\", \"bat_score\", \"bat_balls\", \"bat_avg\", \"career_bat_balls\", \"bat_sr\", \"bowl_balls\", \"bowl_runs\", \"career_bowl_balls\", \"bowl_avg\", \"bowl_sr\", \"seam_factor\", \"spin_factor\"]\n",
    "PREDS_CAT = [\"\"]\n",
    "\n",
    "\n",
    "# Classification metrics\n",
    "METRICS = [\n",
    "      km.TruePositives(name='tp'),\n",
    "      km.FalsePositives(name='fp'),\n",
    "      km.TrueNegatives(name='tn'),\n",
    "      km.FalseNegatives(name='fn'), \n",
    "      km.BinaryAccuracy(name='accuracy'),\n",
    "      km.Precision(name='precision'),\n",
    "      km.Recall(name='recall'),\n",
    "      km.AUC(name='auc'),\n",
    "]\n",
    "\n",
    "def plot_metrics(history):\n",
    "    metrics =  ['loss', 'auc', 'precision', 'recall']\n",
    "    for n, metric in enumerate(metrics):\n",
    "        name = metric.replace(\"_\",\" \").capitalize()\n",
    "        plt.subplot(2,2,n+1)\n",
    "        plt.plot(history.epoch,  history.history[metric], label='Train')\n",
    "        plt.plot(history.epoch, history.history['val_'+metric],\n",
    "                 linestyle=\"--\", label='Val')\n",
    "        plt.xlabel('Epoch')\n",
    "        plt.ylabel(name)\n",
    "        if metric == 'loss':\n",
    "          plt.ylim([0, plt.ylim()[1]])\n",
    "        elif metric == 'auc':\n",
    "          plt.ylim([0.8,1])\n",
    "        else:\n",
    "          plt.ylim([0,1])\n",
    "\n",
    "        plt.legend()\n",
    "\n",
    "def plot_roc(name, labels, predictions, **kwargs):\n",
    "    fp, tp, _ = roc_curve(labels, predictions)\n",
    "\n",
    "    plt.plot(100*fp, 100*tp, label=name, linewidth=2, **kwargs)\n",
    "    plt.xlabel('False positives [%]')\n",
    "    plt.ylabel('True positives [%]')\n",
    "    plt.xlim([-0.5,20])\n",
    "    plt.ylim([80,100.5])\n",
    "    plt.grid(True)\n",
    "    ax = plt.gca()\n",
    "    ax.set_aspect('equal')\n",
    "\n"
   ]
  },
  {
   "cell_type": "markdown",
   "metadata": {},
   "source": [
    "# Pre-processing\n",
    "This is informed from EDA performed in R"
   ]
  },
  {
   "cell_type": "code",
   "execution_count": 4,
   "metadata": {},
   "outputs": [],
   "source": [
    "def preprocess(x, params = [None]*len(PREDS_NUM)):\n",
    "    opt_params = [None]*len(PREDS_NUM)\n",
    "    trans = [\"\"]*len(PREDS_NUM)\n",
    "    \n",
    "    N_FEATS = [6,8,12,14,15]\n",
    "    \n",
    "    # Box-cox transform of bat_avg, bat_sr, bowl_avg\n",
    "    for i in N_FEATS:\n",
    "        trans[i] = \"Box-Cox\"\n",
    "        x[:,i], opt_params[i] = boxcox(x[:,i] + 1) if params[i] == None else (boxcox(x[:,i] + 1, params[i]), None)\n",
    "        # Adding shift parameter 1 ensures all data is positive\n",
    "    \n",
    "    # Standardize all \"normal\" features\n",
    "    #x[:,N_FEATS] = (x[:,N_FEATS] - np.mean(x[:,N_FEATS], axis=0)) / np.std(x[:,N_FEATS], axis=0)\n",
    "    \n",
    "    # Normalise all numeric features\n",
    "    x[:,:len(PREDS_NUM)] = normalize(x[:,:len(PREDS_NUM)], axis = 0)\n",
    "    \n",
    "    \n",
    "    return x, DataFrame(data = {'Predictor': PREDS_NUM, 'Transformation': trans, 'Parameters': opt_params})\n",
    "    \n",
    "    "
   ]
  },
  {
   "cell_type": "markdown",
   "metadata": {},
   "source": [
    "# Predicting Wicket"
   ]
  },
  {
   "cell_type": "markdown",
   "metadata": {},
   "source": [
    "## Load data"
   ]
  },
  {
   "cell_type": "code",
   "execution_count": 5,
   "metadata": {},
   "outputs": [],
   "source": [
    "# Load data\n",
    "train_pred_wkt = read_csv(\"data/is_wkt_train_preds.csv\")\n",
    "train_out_wkt = read_csv(\"data/is_wkt_train_labs.csv\")\n",
    "test_pred_wkt = read_csv(\"data/is_wkt_test_preds.csv\")\n",
    "test_out_wkt = read_csv(\"data/is_wkt_test_labs.csv\")\n",
    "\n",
    "# Preprocess\n",
    "train_x_wkt, trans = preprocess(train_pred_wkt.to_numpy())\n",
    "test_x_wkt, _ = preprocess(test_pred_wkt.to_numpy(), params = trans['Parameters'].tolist())\n",
    "train_y_wkt = (train_out_wkt.to_numpy())[:,1]\n",
    "test_y_wkt = (test_out_wkt.to_numpy())[:,1]\n",
    "\n",
    "# Validation set\n",
    "val_prop_wkt = int(np.ceil(train_x_wkt.shape[0]/10))\n",
    "x_val_wkt = train_x_wkt[:val_prop_wkt]\n",
    "partial_x_train_wkt = train_x_wkt[val_prop_wkt:]\n",
    "y_val_wkt = train_y_wkt[:val_prop_wkt]\n",
    "partial_y_train_wkt = train_y_wkt[val_prop_wkt:]\n",
    "\n",
    "codes_wkt = [\"no\",  \"W\"]\n",
    "n_classes_wkt = 1"
   ]
  },
  {
   "cell_type": "code",
   "execution_count": 6,
   "metadata": {},
   "outputs": [
    {
     "data": {
      "text/html": [
       "<div>\n",
       "<style scoped>\n",
       "    .dataframe tbody tr th:only-of-type {\n",
       "        vertical-align: middle;\n",
       "    }\n",
       "\n",
       "    .dataframe tbody tr th {\n",
       "        vertical-align: top;\n",
       "    }\n",
       "\n",
       "    .dataframe thead th {\n",
       "        text-align: right;\n",
       "    }\n",
       "</style>\n",
       "<table border=\"1\" class=\"dataframe\">\n",
       "  <thead>\n",
       "    <tr style=\"text-align: right;\">\n",
       "      <th></th>\n",
       "      <th>Predictor</th>\n",
       "      <th>Transformation</th>\n",
       "      <th>Parameters</th>\n",
       "    </tr>\n",
       "  </thead>\n",
       "  <tbody>\n",
       "    <tr>\n",
       "      <td>0</td>\n",
       "      <td>match_balls</td>\n",
       "      <td></td>\n",
       "      <td>NaN</td>\n",
       "    </tr>\n",
       "    <tr>\n",
       "      <td>1</td>\n",
       "      <td>inn_balls</td>\n",
       "      <td></td>\n",
       "      <td>NaN</td>\n",
       "    </tr>\n",
       "    <tr>\n",
       "      <td>2</td>\n",
       "      <td>team_score</td>\n",
       "      <td></td>\n",
       "      <td>NaN</td>\n",
       "    </tr>\n",
       "    <tr>\n",
       "      <td>3</td>\n",
       "      <td>team_lead</td>\n",
       "      <td></td>\n",
       "      <td>NaN</td>\n",
       "    </tr>\n",
       "    <tr>\n",
       "      <td>4</td>\n",
       "      <td>bat_score</td>\n",
       "      <td></td>\n",
       "      <td>NaN</td>\n",
       "    </tr>\n",
       "    <tr>\n",
       "      <td>5</td>\n",
       "      <td>bat_balls</td>\n",
       "      <td></td>\n",
       "      <td>NaN</td>\n",
       "    </tr>\n",
       "    <tr>\n",
       "      <td>6</td>\n",
       "      <td>bat_avg</td>\n",
       "      <td>Box-Cox</td>\n",
       "      <td>0.576350</td>\n",
       "    </tr>\n",
       "    <tr>\n",
       "      <td>7</td>\n",
       "      <td>career_bat_balls</td>\n",
       "      <td></td>\n",
       "      <td>NaN</td>\n",
       "    </tr>\n",
       "    <tr>\n",
       "      <td>8</td>\n",
       "      <td>bat_sr</td>\n",
       "      <td>Box-Cox</td>\n",
       "      <td>0.625389</td>\n",
       "    </tr>\n",
       "    <tr>\n",
       "      <td>9</td>\n",
       "      <td>bowl_balls</td>\n",
       "      <td></td>\n",
       "      <td>NaN</td>\n",
       "    </tr>\n",
       "    <tr>\n",
       "      <td>10</td>\n",
       "      <td>bowl_runs</td>\n",
       "      <td></td>\n",
       "      <td>NaN</td>\n",
       "    </tr>\n",
       "    <tr>\n",
       "      <td>11</td>\n",
       "      <td>career_bowl_balls</td>\n",
       "      <td></td>\n",
       "      <td>NaN</td>\n",
       "    </tr>\n",
       "    <tr>\n",
       "      <td>12</td>\n",
       "      <td>bowl_avg</td>\n",
       "      <td>Box-Cox</td>\n",
       "      <td>-0.635517</td>\n",
       "    </tr>\n",
       "    <tr>\n",
       "      <td>13</td>\n",
       "      <td>bowl_sr</td>\n",
       "      <td></td>\n",
       "      <td>NaN</td>\n",
       "    </tr>\n",
       "    <tr>\n",
       "      <td>14</td>\n",
       "      <td>seam_factor</td>\n",
       "      <td>Box-Cox</td>\n",
       "      <td>-0.520644</td>\n",
       "    </tr>\n",
       "    <tr>\n",
       "      <td>15</td>\n",
       "      <td>spin_factor</td>\n",
       "      <td>Box-Cox</td>\n",
       "      <td>-3.545954</td>\n",
       "    </tr>\n",
       "  </tbody>\n",
       "</table>\n",
       "</div>"
      ],
      "text/plain": [
       "            Predictor Transformation  Parameters\n",
       "0         match_balls                        NaN\n",
       "1           inn_balls                        NaN\n",
       "2          team_score                        NaN\n",
       "3           team_lead                        NaN\n",
       "4           bat_score                        NaN\n",
       "5           bat_balls                        NaN\n",
       "6             bat_avg        Box-Cox    0.576350\n",
       "7    career_bat_balls                        NaN\n",
       "8              bat_sr        Box-Cox    0.625389\n",
       "9          bowl_balls                        NaN\n",
       "10          bowl_runs                        NaN\n",
       "11  career_bowl_balls                        NaN\n",
       "12           bowl_avg        Box-Cox   -0.635517\n",
       "13            bowl_sr                        NaN\n",
       "14        seam_factor        Box-Cox   -0.520644\n",
       "15        spin_factor        Box-Cox   -3.545954"
      ]
     },
     "execution_count": 6,
     "metadata": {},
     "output_type": "execute_result"
    }
   ],
   "source": [
    "trans"
   ]
  },
  {
   "cell_type": "code",
   "execution_count": 7,
   "metadata": {},
   "outputs": [
    {
     "name": "stdout",
     "output_type": "stream",
     "text": [
      "Training set: (455955, 78)\n",
      "Training set: (151985, 78)\n",
      "\n",
      "Observations under each label\n",
      "  Label  Training  Testing\n",
      "0    no    448563   149621\n",
      "1     W      7392     2364\n"
     ]
    }
   ],
   "source": [
    "# Data dimensions\n",
    "print(\"Training set:\", train_x_wkt.shape)\n",
    "print(\"Training set:\", test_x_wkt.shape)\n",
    "\n",
    "print(\"\\nObservations under each label\")\n",
    "print(DataFrame({'Label': codes_wkt, \n",
    "                 'Training': [train_y_wkt.shape[0] - np.sum(train_y_wkt), np.sum(train_y_wkt)],\n",
    "                 'Testing': [test_y_wkt.shape[0] - np.sum(test_y_wkt), np.sum(test_y_wkt)]}))"
   ]
  },
  {
   "cell_type": "markdown",
   "metadata": {},
   "source": [
    "## Model"
   ]
  },
  {
   "cell_type": "code",
   "execution_count": 8,
   "metadata": {},
   "outputs": [],
   "source": [
    "EPOCHS = 10\n",
    "BATCH_SIZE = 2048\n",
    "\n",
    "\n",
    "def make_model(input_dim, metrics = METRICS, output_bias = None):\n",
    "    if output_bias is not None:\n",
    "        output_bias = initializers.Constant(output_bias)\n",
    "        \n",
    "    model = models.Sequential([\n",
    "    layers.Dense(16, activation='relu', input_shape=(input_dim,)),\n",
    "    layers.Dense(1, activation='sigmoid')#,\n",
    " #                    bias_initializer=output_bias)\n",
    "    ])\n",
    "\n",
    "    model.compile(\n",
    "    optimizer='rmsprop',\n",
    "    loss='binary_crossentropy',\n",
    "    metrics=metrics)\n",
    "\n",
    "    return model\n",
    "\n",
    "\n"
   ]
  },
  {
   "cell_type": "code",
   "execution_count": 9,
   "metadata": {},
   "outputs": [],
   "source": [
    "# Compile model\n",
    "neg, pos = np.bincount(partial_y_train_wkt)\n",
    "initial_bias = np.log([pos/neg])\n",
    "\n",
    "model_wkt = make_model(partial_x_train_wkt.shape[1], output_bias = initial_bias)\n",
    "\n",
    "\n"
   ]
  },
  {
   "cell_type": "code",
   "execution_count": null,
   "metadata": {},
   "outputs": [],
   "source": [
    "x_val_wkt.shape"
   ]
  },
  {
   "cell_type": "code",
   "execution_count": 15,
   "metadata": {},
   "outputs": [
    {
     "name": "stdout",
     "output_type": "stream",
     "text": [
      "Train on 410359 samples, validate on 45596 samples\n",
      "Epoch 1/10\n",
      "410359/410359 [==============================] - 5s 12us/step - loss: 0.8856 - tp: 777.0000 - fp: 28095.0000 - tn: 375633.0000 - fn: 5854.0000 - accuracy: 0.9173 - precision: 0.0269 - recall: 0.1172 - auc: 0.5284 - val_loss: 0.6485 - val_tp: 315.0000 - val_fp: 12873.0000 - val_tn: 31962.0000 - val_fn: 446.0000 - val_accuracy: 0.7079 - val_precision: 0.0239 - val_recall: 0.4139 - val_auc: 0.5863\n",
      "Epoch 2/10\n",
      "410359/410359 [==============================] - 5s 11us/step - loss: 0.6783 - tp: 3134.0000 - fp: 129287.0000 - tn: 274441.0000 - fn: 3497.0000 - accuracy: 0.6764 - precision: 0.0237 - recall: 0.4726 - auc: 0.6029 - val_loss: 0.6691 - val_tp: 382.0000 - val_fp: 16507.0000 - val_tn: 28328.0000 - val_fn: 379.0000 - val_accuracy: 0.6297 - val_precision: 0.0226 - val_recall: 0.5020 - val_auc: 0.5964\n",
      "Epoch 3/10\n",
      "410359/410359 [==============================] - 6s 13us/step - loss: 0.6741 - tp: 3298.0000 - fp: 137216.0000 - tn: 266512.0000 - fn: 3333.0000 - accuracy: 0.6575 - precision: 0.0235 - recall: 0.4974 - auc: 0.6098 - val_loss: 0.6608 - val_tp: 352.0000 - val_fp: 14470.0000 - val_tn: 30365.0000 - val_fn: 409.0000 - val_accuracy: 0.6737 - val_precision: 0.0237 - val_recall: 0.4625 - val_auc: 0.6006\n",
      "Epoch 4/10\n",
      "410359/410359 [==============================] - 6s 14us/step - loss: 0.6723 - tp: 3275.0000 - fp: 133195.0000 - tn: 270533.0000 - fn: 3356.0000 - accuracy: 0.6672 - precision: 0.0240 - recall: 0.4939 - auc: 0.6121 - val_loss: 0.6325 - val_tp: 303.0000 - val_fp: 11359.0000 - val_tn: 33476.0000 - val_fn: 458.0000 - val_accuracy: 0.7408 - val_precision: 0.0260 - val_recall: 0.3982 - val_auc: 0.6020\n",
      "Epoch 5/10\n",
      "410359/410359 [==============================] - 5s 13us/step - loss: 0.6715 - tp: 3155.0000 - fp: 125467.0000 - tn: 278261.0000 - fn: 3476.0000 - accuracy: 0.6858 - precision: 0.0245 - recall: 0.4758 - auc: 0.6139 - val_loss: 0.6917 - val_tp: 392.0000 - val_fp: 16764.0000 - val_tn: 28071.0000 - val_fn: 369.0000 - val_accuracy: 0.6242 - val_precision: 0.0228 - val_recall: 0.5151 - val_auc: 0.6026\n",
      "Epoch 6/10\n",
      "410359/410359 [==============================] - 5s 13us/step - loss: 0.6709 - tp: 3200.0000 - fp: 128025.0000 - tn: 275703.0000 - fn: 3431.0000 - accuracy: 0.6797 - precision: 0.0244 - recall: 0.4826 - auc: 0.6146 - val_loss: 0.6766 - val_tp: 367.0000 - val_fp: 15032.0000 - val_tn: 29803.0000 - val_fn: 394.0000 - val_accuracy: 0.6617 - val_precision: 0.0238 - val_recall: 0.4823 - val_auc: 0.6034\n",
      "Epoch 7/10\n",
      "410359/410359 [==============================] - 5s 13us/step - loss: 0.6706 - tp: 3193.0000 - fp: 125839.0000 - tn: 277889.0000 - fn: 3438.0000 - accuracy: 0.6850 - precision: 0.0247 - recall: 0.4815 - auc: 0.6160 - val_loss: 0.6562 - val_tp: 335.0000 - val_fp: 12803.0000 - val_tn: 32032.0000 - val_fn: 426.0000 - val_accuracy: 0.7099 - val_precision: 0.0255 - val_recall: 0.4402 - val_auc: 0.6047\n",
      "Epoch 8/10\n",
      "410359/410359 [==============================] - 5s 13us/step - loss: 0.6701 - tp: 3222.0000 - fp: 126536.0000 - tn: 277192.0000 - fn: 3409.0000 - accuracy: 0.6833 - precision: 0.0248 - recall: 0.4859 - auc: 0.6169 - val_loss: 0.6499 - val_tp: 319.0000 - val_fp: 12133.0000 - val_tn: 32702.0000 - val_fn: 442.0000 - val_accuracy: 0.7242 - val_precision: 0.0256 - val_recall: 0.4192 - val_auc: 0.6046\n",
      "Epoch 9/10\n",
      "410359/410359 [==============================] - 5s 13us/step - loss: 0.6698 - tp: 3092.0000 - fp: 119290.0000 - tn: 284438.0000 - fn: 3539.0000 - accuracy: 0.7007 - precision: 0.0253 - recall: 0.4663 - auc: 0.6178 - val_loss: 0.6944 - val_tp: 407.0000 - val_fp: 17081.0000 - val_tn: 27754.0000 - val_fn: 354.0000 - val_accuracy: 0.6176 - val_precision: 0.0233 - val_recall: 0.5348 - val_auc: 0.6051- recall: 0.4633 - auc: 0\n",
      "Epoch 10/10\n",
      "410359/410359 [==============================] - 5s 13us/step - loss: 0.6696 - tp: 3208.0000 - fp: 127217.0000 - tn: 276511.0000 - fn: 3423.0000 - accuracy: 0.6816 - precision: 0.0246 - recall: 0.4838 - auc: 0.6184 - val_loss: 0.6796 - val_tp: 368.0000 - val_fp: 15028.0000 - val_tn: 29807.0000 - val_fn: 393.0000 - val_accuracy: 0.6618 - val_precision: 0.0239 - val_recall: 0.4836 - val_auc: 0.6060\n"
     ]
    }
   ],
   "source": [
    "# SCaled weights\n",
    "total = neg + pos\n",
    "weight_for_0 = (1 / neg)*(total)/2.0 \n",
    "weight_for_1 = (1 / pos)*(total)/2.0\n",
    "class_weight = {0: weight_for_0, 1: weight_for_1}\n",
    "\n",
    "history_wkt = model_wkt.fit(partial_x_train_wkt,\n",
    "partial_y_train_wkt,\n",
    "epochs=EPOCHS,\n",
    "batch_size=BATCH_SIZE,\n",
    "validation_data=(x_val_wkt, y_val_wkt),\n",
    "                           class_weight=class_weight)"
   ]
  },
  {
   "cell_type": "code",
   "execution_count": 16,
   "metadata": {},
   "outputs": [
    {
     "name": "stdout",
     "output_type": "stream",
     "text": [
      "Model: \"sequential_1\"\n",
      "_________________________________________________________________\n",
      "Layer (type)                 Output Shape              Param #   \n",
      "=================================================================\n",
      "dense_1 (Dense)              (None, 16)                1264      \n",
      "_________________________________________________________________\n",
      "dense_2 (Dense)              (None, 1)                 17        \n",
      "=================================================================\n",
      "Total params: 1,281\n",
      "Trainable params: 1,281\n",
      "Non-trainable params: 0\n",
      "_________________________________________________________________\n"
     ]
    }
   ],
   "source": [
    "model_wkt.summary()"
   ]
  },
  {
   "cell_type": "code",
   "execution_count": 17,
   "metadata": {},
   "outputs": [
    {
     "data": {
      "image/png": "[encoded data removed]",
      "text/plain": [
       "<Figure size 432x288 with 4 Axes>"
      ]
     },
     "metadata": {
      "needs_background": "light"
     },
     "output_type": "display_data"
    }
   ],
   "source": [
    "plot_metrics(history_wkt)"
   ]
  },
  {
   "cell_type": "code",
   "execution_count": 18,
   "metadata": {},
   "outputs": [
    {
     "data": {
      "image/png": "[encoded data removed]",
      "text/plain": [
       "<Figure size 432x288 with 1 Axes>"
      ]
     },
     "metadata": {
      "needs_background": "light"
     },
     "output_type": "display_data"
    }
   ],
   "source": [
    "train_preds = model_wkt.predict(partial_x_train_wkt)\n",
    "plot_roc(\"Training\", partial_y_train_wkt, train_preds)"
   ]
  },
  {
   "cell_type": "code",
   "execution_count": 19,
   "metadata": {},
   "outputs": [
    {
     "data": {
      "image/png": "[encoded data removed]",
      "text/plain": [
       "<Figure size 432x288 with 1 Axes>"
      ]
     },
     "metadata": {
      "needs_background": "light"
     },
     "output_type": "display_data"
    },
    {
     "name": "stdout",
     "output_type": "stream",
     "text": [
      "AUC: 0.6113357047170205\n"
     ]
    }
   ],
   "source": [
    "# Predictions on test set\n",
    "test_pred = model_wkt.predict(test_x_wkt)\n",
    "\n",
    "# Plot linewidth.\n",
    "lw = 2\n",
    "\n",
    "# Compute ROC curve and ROC area for each class\n",
    "fpr, tpr, _ = roc_curve(test_y_wkt, test_pred)\n",
    "roc_auc = auc(fpr, tpr)\n",
    "\n",
    "color = \"red\"\n",
    "\n",
    "# Plot ROC curve\n",
    "plt.plot(fpr, tpr, color=color, lw=lw,\n",
    "         label='ROC curve of class {0} (area = {1:0.2f})'\n",
    "         ''.format(0, roc_auc))\n",
    "plt.title(\"W\")\n",
    "plt.plot([0, 1], [0, 1], 'k--', lw=lw)\n",
    "plt.xlim([0.0, 1.0])\n",
    "plt.ylim([0.0, 1.05])\n",
    "plt.show()\n",
    "\n",
    "print(\"AUC:\", roc_auc)\n",
    "#print(\"Accuracy:\", accuracy(test_y_wkt, test_pred))"
   ]
  },
  {
   "cell_type": "code",
   "execution_count": 20,
   "metadata": {},
   "outputs": [
    {
     "data": {
      "text/plain": [
       "array([0.7749968], dtype=float32)"
      ]
     },
     "execution_count": 20,
     "metadata": {},
     "output_type": "execute_result"
    }
   ],
   "source": [
    "max(test_pred)"
   ]
  },
  {
   "cell_type": "markdown",
   "metadata": {},
   "source": [
    "## Manual Assessment"
   ]
  },
  {
   "cell_type": "code",
   "execution_count": 50,
   "metadata": {},
   "outputs": [
    {
     "data": {
      "text/plain": [
       "[<matplotlib.lines.Line2D at 0x21208fd7548>]"
      ]
     },
     "execution_count": 50,
     "metadata": {},
     "output_type": "execute_result"
    },
    {
     "data": {
      "image/png": "[encoded data removed]",
      "text/plain": [
       "<Figure size 432x288 with 1 Axes>"
      ]
     },
     "metadata": {
      "needs_background": "light"
     },
     "output_type": "display_data"
    }
   ],
   "source": [
    "##### Wicket probability for batting average\n",
    "bat_avgs = list(range(1,61))\n",
    "\n",
    "ind = np.random.choice(test_x_wkt.shape[0], 1)[0]\n",
    "bat_avg_data = np.array([test_pred_wkt.to_numpy()[ind,:],]*len(bat_avgs))\n",
    "bat_avg_data[:,6] = bat_avgs\n",
    "\n",
    "bat_avg_data,_ = preprocess(bat_avg_data, params = trans['Parameters'].tolist())\n",
    "ba_exp = model_wkt.predict(bat_avg_data)\n",
    "plt.plot(bat_avgs, ba_exp)"
   ]
  },
  {
   "cell_type": "code",
   "execution_count": 57,
   "metadata": {},
   "outputs": [
    {
     "data": {
      "text/plain": [
       "[<matplotlib.lines.Line2D at 0x212070efac8>]"
      ]
     },
     "execution_count": 57,
     "metadata": {},
     "output_type": "execute_result"
    },
    {
     "data": {
      "image/png": "[encoded data removed]",
      "text/plain": [
       "<Figure size 432x288 with 1 Axes>"
      ]
     },
     "metadata": {
      "needs_background": "light"
     },
     "output_type": "display_data"
    }
   ],
   "source": [
    "##### Wicket probability for innings balls\n",
    "inn_balls = list(range(1000))\n",
    "\n",
    "ind = np.random.choice(test_x_wkt.shape[0], 1)[0]\n",
    "inn_balls_data = np.array([test_pred_wkt.to_numpy()[ind,:],]*len(inn_balls))\n",
    "inn_balls_data[:,6] = inn_balls\n",
    "\n",
    "inn_balls_data,_ = preprocess(inn_balls_data, params = trans['Parameters'].tolist())\n",
    "ib_exp = model_wkt.predict(inn_balls_data)\n",
    "plt.plot(inn_balls, ib_exp)"
   ]
  },
  {
   "cell_type": "markdown",
   "metadata": {},
   "source": [
    "# Predicting Outcome"
   ]
  },
  {
   "cell_type": "code",
   "execution_count": null,
   "metadata": {},
   "outputs": [],
   "source": [
    "# Load data\n",
    "train_pred_out = read_csv(\"data/outcome_train_preds.csv\")\n",
    "train_out_out = read_csv(\"data/outcome_train_labs.csv\")\n",
    "test_pred_out = read_csv(\"data/outcome_test_preds.csv\")\n",
    "test_out_out = read_csv(\"data/outcome_test_labs.csv\")\n",
    "\n",
    "train_x_out = train_pred_out.to_numpy()\n",
    "test_x_out = test_pred_out.to_numpy()\n",
    "train_y_out = train_out_out.to_numpy()\n",
    "test_y_out = test_out_out.to_numpy()\n",
    "\n",
    "# Validation set\n",
    "val_prop_out = int(np.ceil(train_x_out.shape[0]/10))\n",
    "x_val_out = train_x_out[:val_prop_out]\n",
    "partial_x_train_out = train_x_out[val_prop_out:]\n",
    "y_val_out = train_y_out[:val_prop_out]\n",
    "partial_y_train_out = train_y_out[val_prop_out:]\n",
    "\n",
    "codes_out = [\"b\", \"lb\", \"nb\", \"off_bat\", \"wd\"]\n",
    "n_classes_out = train_y_out.shape[1]"
   ]
  },
  {
   "cell_type": "code",
   "execution_count": null,
   "metadata": {},
   "outputs": [],
   "source": [
    "# Define model\n",
    "model_out = models.Sequential()\n",
    "model_out.add(layers.Dense(512, activation='relu', input_shape=(train_x_out.shape[1],)))\n",
    "model_out.add(layers.Dense(512, activation='relu'))\n",
    "model_out.add(layers.Dense(n_classes_out, activation='softmax'))\n",
    "\n",
    "# Compile model\n",
    "model_out.compile(optimizer='rmsprop', loss='categorical_crossentropy', metrics=['accuracy'])"
   ]
  },
  {
   "cell_type": "code",
   "execution_count": null,
   "metadata": {},
   "outputs": [],
   "source": [
    "# Train model\n",
    "history_out = model_out.fit(partial_x_train_out,\n",
    "partial_y_train_out,\n",
    "epochs=10,\n",
    "batch_size=512,\n",
    "validation_data=(x_val_out, y_val_out))"
   ]
  },
  {
   "cell_type": "code",
   "execution_count": null,
   "metadata": {},
   "outputs": [],
   "source": [
    "loss = history_out.history['loss']\n",
    "val_loss = history_out.history['val_loss']\n",
    "epochs = range(1, len(loss) + 1)\n",
    "plt.plot(epochs, loss, 'bo', label='Training loss')\n",
    "plt.plot(epochs, val_loss, 'b', label='Validation loss')\n",
    "plt.title('Training and validation loss')\n",
    "plt.xlabel('Epochs')\n",
    "plt.ylabel('Loss')\n",
    "plt.legend()\n",
    "plt.show()"
   ]
  },
  {
   "cell_type": "code",
   "execution_count": null,
   "metadata": {},
   "outputs": [],
   "source": [
    "acc = history_out.history['accuracy']\n",
    "val_acc = history_out.history['val_accuracy']\n",
    "plt.plot(epochs, acc, 'bo', label='Training acc')\n",
    "plt.plot(epochs, val_acc, 'b', label='Validation acc')\n",
    "plt.title('Training and validation accuracy')\n",
    "plt.xlabel('Epochs')\n",
    "plt.ylabel('Accuracy')\n",
    "plt.legend()"
   ]
  },
  {
   "cell_type": "code",
   "execution_count": null,
   "metadata": {},
   "outputs": [],
   "source": [
    "# Predictions on test set\n",
    "test_pred = model_out.predict(test_x_out)\n",
    "\n",
    "# Plot linewidth.\n",
    "lw = 2\n",
    "\n",
    "# Compute ROC curve and ROC area for each class\n",
    "fpr = dict()\n",
    "tpr = dict()\n",
    "roc_auc = dict()\n",
    "for i in range(n_classes_out):\n",
    "    fpr[i], tpr[i], _ = roc_curve(test_y_out[:, i], test_pred[:, i])\n",
    "    roc_auc[i] = auc(fpr[i], tpr[i])\n",
    "\n",
    "\n",
    "\n",
    "# Plot all ROC curves\n",
    "\n",
    "colors = cycle(['aqua', 'darkorange', 'cornflowerblue'])\n",
    "for i, color in zip(range(n_classes_out), colors):\n",
    "    #plt.subplot(11,2,i + 1)\n",
    "    plt.plot(fpr[i], tpr[i], color=color, lw=lw,\n",
    "             label='ROC curve of class {0} (area = {1:0.2f})'\n",
    "             ''.format(i, roc_auc[i]))\n",
    "    plt.title(codes_out[i])\n",
    "    plt.plot([0, 1], [0, 1], 'k--', lw=lw)\n",
    "    plt.xlim([0.0, 1.0])\n",
    "    plt.ylim([0.0, 1.05])\n",
    "    plt.show()\n",
    "    print(codes_out[i], roc_auc[i])\n",
    "    "
   ]
  },
  {
   "cell_type": "code",
   "execution_count": null,
   "metadata": {},
   "outputs": [],
   "source": []
  },
  {
   "cell_type": "code",
   "execution_count": null,
   "metadata": {},
   "outputs": [],
   "source": []
  },
  {
   "cell_type": "markdown",
   "metadata": {},
   "source": [
    "# Ignore, for reference"
   ]
  },
  {
   "cell_type": "code",
   "execution_count": null,
   "metadata": {},
   "outputs": [],
   "source": [
    "# Load data\n",
    "train_pred = read_csv(\"data/bbb_train_preds.csv\")\n",
    "train_out = read_csv(\"data/bbb_train_labs.csv\")\n",
    "test_pred = read_csv(\"data/bbb_test_preds.csv\")\n",
    "test_out = read_csv(\"data/bbb_test_labs.csv\")\n",
    "\n",
    "train_x = train_pred.to_numpy()\n",
    "test_x = test_pred.to_numpy()\n",
    "train_y = train_out.to_numpy()\n",
    "test_y = test_out.to_numpy()\n",
    "\n",
    "# Validation set\n",
    "val_prop = int(np.ceil(train_x.shape[0]/10))\n",
    "x_val = train_x[:val_prop]\n",
    "partial_x_train = train_x[val_prop:]\n",
    "y_val = train_y[:val_prop]\n",
    "partial_y_train = train_y[val_prop:]\n",
    "\n",
    "codes = [\"1\",  \"1b\",  \"1lb\", \"1nb\", \"1wd\", \"2\",   \"2b\",  \"2lb\", \"2nb\", \"2wd\", \"3\",   \"3b\",  \"3lb\", \"4\", \"4b\", \"4lb\", \"5\", \"5nb\", \"5wd\", \"6\", \"W\", \"0\"]\n",
    "n_classes = train_y.shape[1]"
   ]
  },
  {
   "cell_type": "code",
   "execution_count": null,
   "metadata": {},
   "outputs": [],
   "source": [
    "# Define model\n",
    "model = models.Sequential()\n",
    "model.add(layers.Dense(128, activation='relu', input_shape=(train_x.shape[1],)))\n",
    "model.add(layers.Dense(128, activation='relu'))\n",
    "model.add(layers.Dense(128, activation='relu'))\n",
    "model.add(layers.Dense(n_classes, activation='softmax'))\n",
    "\n",
    "# Compile model\n",
    "model.compile(optimizer='rmsprop', loss='categorical_crossentropy', metrics=['accuracy'])"
   ]
  },
  {
   "cell_type": "code",
   "execution_count": null,
   "metadata": {},
   "outputs": [],
   "source": [
    "# Train model\n",
    "history = model.fit(partial_x_train,\n",
    "partial_y_train,\n",
    "epochs=20,\n",
    "batch_size=512,\n",
    "validation_data=(x_val, y_val))"
   ]
  },
  {
   "cell_type": "code",
   "execution_count": null,
   "metadata": {},
   "outputs": [],
   "source": [
    "loss = history.history['loss']\n",
    "val_loss = history.history['val_loss']\n",
    "epochs = range(1, len(loss) + 1)\n",
    "plt.plot(epochs, loss, 'bo', label='Training loss')\n",
    "plt.plot(epochs, val_loss, 'b', label='Validation loss')\n",
    "plt.title('Training and validation loss')\n",
    "plt.xlabel('Epochs')\n",
    "plt.ylabel('Loss')\n",
    "plt.legend()\n",
    "plt.show()"
   ]
  },
  {
   "cell_type": "code",
   "execution_count": null,
   "metadata": {},
   "outputs": [],
   "source": [
    "acc = history.history['accuracy']\n",
    "val_acc = history.history['val_accuracy']\n",
    "plt.plot(epochs, acc, 'bo', label='Training acc')\n",
    "plt.plot(epochs, val_acc, 'b', label='Validation acc')\n",
    "plt.title('Training and validation accuracy')\n",
    "plt.xlabel('Epochs')\n",
    "plt.ylabel('Accuracy')\n",
    "plt.legend()"
   ]
  },
  {
   "cell_type": "code",
   "execution_count": null,
   "metadata": {},
   "outputs": [],
   "source": [
    "# Export model to ONNX\n",
    "output_model_path = \"../backend/models/keras_bbb.onnx\"\n",
    "onnx_model = keras2onnx.convert_keras(model, model.name)\n",
    "keras2onnx.save_model(onnx_model, output_model_path)"
   ]
  },
  {
   "cell_type": "code",
   "execution_count": null,
   "metadata": {},
   "outputs": [],
   "source": [
    "# Predictions on test set\n",
    "test_pred = model.predict(test_x)\n",
    "\n",
    "# Plot linewidth.\n",
    "lw = 2\n",
    "\n",
    "# Compute ROC curve and ROC area for each class\n",
    "fpr = dict()\n",
    "tpr = dict()\n",
    "roc_auc = dict()\n",
    "for i in range(n_classes):\n",
    "    fpr[i], tpr[i], _ = roc_curve(test_y[:, i], test_pred[:, i])\n",
    "    roc_auc[i] = auc(fpr[i], tpr[i])\n",
    "\n",
    "\n",
    "\n",
    "# Plot all ROC curves\n",
    "\n",
    "colors = cycle(['aqua', 'darkorange', 'cornflowerblue'])\n",
    "for i, color in zip(range(n_classes), colors):\n",
    "    #plt.subplot(11,2,i + 1)\n",
    "    plt.plot(fpr[i], tpr[i], color=color, lw=lw,\n",
    "             label='ROC curve of class {0} (area = {1:0.2f})'\n",
    "             ''.format(i, roc_auc[i]))\n",
    "    plt.title(codes[i])\n",
    "    plt.plot([0, 1], [0, 1], 'k--', lw=lw)\n",
    "    plt.xlim([0.0, 1.0])\n",
    "    plt.ylim([0.0, 1.05])\n",
    "    plt.show()\n",
    "    \n",
    "\n",
    "\n"
   ]
  },
  {
   "cell_type": "markdown",
   "metadata": {},
   "source": [
    "# Bootstrapping Fit"
   ]
  },
  {
   "cell_type": "code",
   "execution_count": null,
   "metadata": {},
   "outputs": [],
   "source": []
  }
 ],
 "metadata": {
  "kernelspec": {
   "display_name": "Python 3",
   "language": "python",
   "name": "python3"
  },
  "language_info": {
   "codemirror_mode": {
    "name": "ipython",
    "version": 3
   },
   "file_extension": ".py",
   "mimetype": "text/x-python",
   "name": "python",
   "nbconvert_exporter": "python",
   "pygments_lexer": "ipython3",
   "version": "3.7.4"
  }
 },
 "nbformat": 4,
 "nbformat_minor": 4
}
