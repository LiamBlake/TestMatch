{
 "cells": [
  {
   "cell_type": "code",
   "execution_count": 2,
   "metadata": {},
   "outputs": [],
   "source": [
    "import numpy as np\n",
    "from pandas import read_csv\n",
    "from keras import models, layers\n",
    "import matplotlib.pyplot as plt\n",
    "import keras2onnx"
   ]
  },
  {
   "cell_type": "code",
   "execution_count": 3,
   "metadata": {},
   "outputs": [],
   "source": [
    "# Load data\n",
    "train_pred = read_csv(\"data/bbb_train_preds.csv\")\n",
    "train_out = read_csv(\"data/bbb_train_labs.csv\")\n",
    "test_pred = read_csv(\"data/bbb_test_preds.csv\")\n",
    "test_out = read_csv(\"data/bbb_test_labs.csv\")\n",
    "\n",
    "train_x = train_pred.to_numpy()\n",
    "test_x = test_pred.to_numpy()\n",
    "train_y = train_out.to_numpy()\n",
    "test_y = test_out.to_numpy()\n",
    "\n",
    "# Validation set\n",
    "x_val = train_x[:1000]\n",
    "partial_x_train = train_x[1000:]\n",
    "y_val = train_y[:1000]\n",
    "partial_y_train = train_y[1000:]\n"
   ]
  },
  {
   "cell_type": "code",
   "execution_count": 4,
   "metadata": {},
   "outputs": [],
   "source": [
    "# Define model\n",
    "model = models.Sequential()\n",
    "model.add(layers.Dense(64, activation='relu', input_shape=(train_x.shape[1],)))\n",
    "model.add(layers.Dense(64, activation='relu'))\n",
    "model.add(layers.Dense(27, activation='softmax'))\n",
    "\n",
    "# Compile model\n",
    "model.compile(optimizer='rmsprop', loss='categorical_crossentropy', metrics=['accuracy'])"
   ]
  },
  {
   "cell_type": "code",
   "execution_count": 5,
   "metadata": {},
   "outputs": [
    {
     "name": "stdout",
     "output_type": "stream",
     "text": [
      "Epoch 1/20\n",
      "1010/1010 [==============================] - 2s 2ms/step - loss: 34.2940 - accuracy: 0.5288 - val_loss: 20.5463 - val_accuracy: 0.6910\n",
      "Epoch 2/20\n",
      "1010/1010 [==============================] - 1s 1ms/step - loss: 9.8371 - accuracy: 0.5422 - val_loss: 9.0021 - val_accuracy: 0.6010\n",
      "Epoch 3/20\n",
      "1010/1010 [==============================] - 1s 1ms/step - loss: 2.8692 - accuracy: 0.6218 - val_loss: 1.5216 - val_accuracy: 0.6620\n",
      "Epoch 4/20\n",
      "1010/1010 [==============================] - 1s 990us/step - loss: 1.1085 - accuracy: 0.7137 - val_loss: 1.1436 - val_accuracy: 0.6950\n",
      "Epoch 5/20\n",
      "1010/1010 [==============================] - 1s 1ms/step - loss: 1.0574 - accuracy: 0.7159 - val_loss: 1.1826 - val_accuracy: 0.6950\n",
      "Epoch 6/20\n",
      "1010/1010 [==============================] - 1s 988us/step - loss: 1.0521 - accuracy: 0.7159 - val_loss: 1.1424 - val_accuracy: 0.6950\n",
      "Epoch 7/20\n",
      "1010/1010 [==============================] - 1s 982us/step - loss: 1.0498 - accuracy: 0.7158 - val_loss: 1.1362 - val_accuracy: 0.6950\n",
      "Epoch 8/20\n",
      "1010/1010 [==============================] - 1s 984us/step - loss: 1.0480 - accuracy: 0.7156 - val_loss: 1.1374 - val_accuracy: 0.6940\n",
      "Epoch 9/20\n",
      "1010/1010 [==============================] - 1s 981us/step - loss: 1.0467 - accuracy: 0.7157 - val_loss: 1.1213 - val_accuracy: 0.6950\n",
      "Epoch 10/20\n",
      "1010/1010 [==============================] - 1s 990us/step - loss: 1.0453 - accuracy: 0.7156 - val_loss: 1.1257 - val_accuracy: 0.6950\n",
      "Epoch 11/20\n",
      "1010/1010 [==============================] - 1s 987us/step - loss: 1.0450 - accuracy: 0.7155 - val_loss: 1.1339 - val_accuracy: 0.6950\n",
      "Epoch 12/20\n",
      "1010/1010 [==============================] - 1s 984us/step - loss: 1.0440 - accuracy: 0.7156 - val_loss: 1.1247 - val_accuracy: 0.6950\n",
      "Epoch 13/20\n",
      "1010/1010 [==============================] - 1s 983us/step - loss: 1.0437 - accuracy: 0.7157 - val_loss: 1.1261 - val_accuracy: 0.6950\n",
      "Epoch 14/20\n",
      "1010/1010 [==============================] - 1s 998us/step - loss: 1.0437 - accuracy: 0.7157 - val_loss: 1.1269 - val_accuracy: 0.6950\n",
      "Epoch 15/20\n",
      "1010/1010 [==============================] - 1s 993us/step - loss: 1.0432 - accuracy: 0.7157 - val_loss: 1.1467 - val_accuracy: 0.6970\n",
      "Epoch 16/20\n",
      "1010/1010 [==============================] - 1s 1ms/step - loss: 1.0422 - accuracy: 0.7157 - val_loss: 1.1253 - val_accuracy: 0.6950\n",
      "Epoch 17/20\n",
      "1010/1010 [==============================] - 1s 1ms/step - loss: 1.0424 - accuracy: 0.7156 - val_loss: 1.1264 - val_accuracy: 0.6950\n",
      "Epoch 18/20\n",
      "1010/1010 [==============================] - 1s 989us/step - loss: 1.0406 - accuracy: 0.7160 - val_loss: 1.1416 - val_accuracy: 0.6950\n",
      "Epoch 19/20\n",
      "1010/1010 [==============================] - 1s 1ms/step - loss: 1.0397 - accuracy: 0.7159 - val_loss: 1.1413 - val_accuracy: 0.6950\n",
      "Epoch 20/20\n",
      "1010/1010 [==============================] - 1s 1ms/step - loss: 1.0374 - accuracy: 0.7159 - val_loss: 1.1319 - val_accuracy: 0.6950\n"
     ]
    }
   ],
   "source": [
    "# Train model\n",
    "history = model.fit(partial_x_train,\n",
    "partial_y_train,\n",
    "epochs=20,\n",
    "batch_size=512,\n",
    "validation_data=(x_val, y_val))"
   ]
  },
  {
   "cell_type": "code",
   "execution_count": 6,
   "metadata": {},
   "outputs": [
    {
     "data": {
      "image/png": "[encoded data removed]",
      "text/plain": [
       "<Figure size 432x288 with 1 Axes>"
      ]
     },
     "metadata": {
      "needs_background": "light"
     },
     "output_type": "display_data"
    }
   ],
   "source": [
    "loss = history.history['loss']\n",
    "val_loss = history.history['val_loss']\n",
    "epochs = range(1, len(loss) + 1)\n",
    "plt.plot(epochs, loss, 'bo', label='Training loss')\n",
    "plt.plot(epochs, val_loss, 'b', label='Validation loss')\n",
    "plt.title('Training and validation loss')\n",
    "plt.xlabel('Epochs')\n",
    "plt.ylabel('Loss')\n",
    "plt.legend()\n",
    "plt.show()"
   ]
  },
  {
   "cell_type": "code",
   "execution_count": 7,
   "metadata": {},
   "outputs": [
    {
     "data": {
      "text/plain": [
       "<matplotlib.legend.Legend at 0x251a0498b48>"
      ]
     },
     "execution_count": 7,
     "metadata": {},
     "output_type": "execute_result"
    },
    {
     "data": {
      "image/png": "[encoded data removed]",
      "text/plain": [
       "<Figure size 432x288 with 1 Axes>"
      ]
     },
     "metadata": {
      "needs_background": "light"
     },
     "output_type": "display_data"
    }
   ],
   "source": [
    "acc = history.history['accuracy']\n",
    "val_acc = history.history['val_accuracy']\n",
    "plt.plot(epochs, acc, 'bo', label='Training acc')\n",
    "plt.plot(epochs, val_acc, 'b', label='Validation acc')\n",
    "plt.title('Training and validation accuracy')\n",
    "plt.xlabel('Epochs')\n",
    "plt.ylabel('Loss')\n",
    "plt.legend()"
   ]
  },
  {
   "cell_type": "code",
   "execution_count": 8,
   "metadata": {},
   "outputs": [
    {
     "data": {
      "text/plain": [
       "array([1.3670523e-01, 7.3966658e-04, 4.7770087e-03, 4.9317833e-03,\n",
       "       2.1016041e-03, 3.5421461e-02, 2.1325774e-04, 6.3092995e-04,\n",
       "       3.0761342e-08, 1.4686160e-08, 8.8717807e-03, 1.0310360e-05,\n",
       "       3.3117847e-06, 1.7334760e-11, 2.3768516e-09, 6.1459072e-02,\n",
       "       1.3546363e-03, 7.7233370e-04, 1.1407933e-13, 3.5704874e-05,\n",
       "       9.7874768e-13, 3.4458907e-07, 6.2949475e-05, 4.1818535e-03,\n",
       "       8.1963570e-13, 1.6795726e-02, 7.2093099e-01], dtype=float32)"
      ]
     },
     "execution_count": 8,
     "metadata": {},
     "output_type": "execute_result"
    }
   ],
   "source": [
    "# Predictions on test set\n",
    "predictions = model.predict(test_x)\n",
    "predictions[0]"
   ]
  },
  {
   "cell_type": "code",
   "execution_count": 10,
   "metadata": {},
   "outputs": [
    {
     "name": "stderr",
     "output_type": "stream",
     "text": [
      "tf executing eager_mode: True\n",
      "tf.keras model eager_mode: False\n",
      "The ONNX operator number change on the optimization: 13 -> 9\n",
      "The maximum opset needed by this model is only 9.\n"
     ]
    }
   ],
   "source": [
    "# Export model to ONNX\n",
    "output_model_path = \"../backend/models/keras_bbb.onnx\"\n",
    "onnx_model = keras2onnx.convert_keras(model, model.name)\n",
    "keras2onnx.save_model(onnx_model, output_model_path)"
   ]
  }
 ],
 "metadata": {
  "kernelspec": {
   "display_name": "Python 3",
   "language": "python",
   "name": "python3"
  },
  "language_info": {
   "codemirror_mode": {
    "name": "ipython",
    "version": 3
   },
   "file_extension": ".py",
   "mimetype": "text/x-python",
   "name": "python",
   "nbconvert_exporter": "python",
   "pygments_lexer": "ipython3",
   "version": "3.7.6"
  }
 },
 "nbformat": 4,
 "nbformat_minor": 4
}
