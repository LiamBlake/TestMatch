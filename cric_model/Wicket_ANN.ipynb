{
 "cells": [
  {
   "cell_type": "code",
   "execution_count": 91,
   "metadata": {},
   "outputs": [],
   "source": [
    "import numpy as np\n",
    "from pandas import read_csv, DataFrame\n",
    "from keras import models, layers, initializers\n",
    "import keras.metrics as km\n",
    "import keras.backend as kb\n",
    "import matplotlib.pyplot as plt\n",
    "#import keras2onnx\n",
    "from sklearn.metrics import roc_curve, auc\n",
    "from keras.utils import normalize\n",
    "from scipy import interp\n",
    "from scipy.stats import boxcox\n",
    "from itertools import cycle"
   ]
  },
  {
   "cell_type": "code",
   "execution_count": 90,
   "metadata": {},
   "outputs": [],
   "source": [
    "#Global variables\n",
    "PREDS_NUM = [\"match_balls\", \"inn_balls\", \"team_score\", \"team_lead\", \"bat_score\", \"bat_balls\", \"bat_avg\", \"career_bat_balls\", \"bat_sr\", \"bowl_balls\", \"bowl_runs\", \"career_bowl_balls\", \"bowl_avg\", \"bowl_sr\", \"seam_factor\", \"spin_factor\"]\n",
    "PREDS_CAT = [\"\"]\n",
    "\n",
    "\n",
    "# Classification metrics\n",
    "METRICS = [\n",
    "      km.TruePositives(name='tp'),\n",
    "      km.FalsePositives(name='fp'),\n",
    "      km.TrueNegatives(name='tn'),\n",
    "      km.FalseNegatives(name='fn'), \n",
    "      km.BinaryAccuracy(name='accuracy'),\n",
    "      km.Precision(name='precision'),\n",
    "      km.Recall(name='recall'),\n",
    "      km.AUC(name='auc'),\n",
    "]\n",
    "\n",
    "def plot_metrics(history):\n",
    "    metrics =  ['loss']#, 'auc', 'precision', 'recall']\n",
    "    for n, metric in enumerate(metrics):\n",
    "        name = metric.replace(\"_\",\" \").capitalize()\n",
    "        #plt.subplot(2,2,n+1)\n",
    "        plt.plot(history.epoch,  history.history[metric], label='Train')\n",
    "        plt.plot(history.epoch, history.history['val_'+metric],\n",
    "                 linestyle=\"--\", label='Val')\n",
    "        plt.xlabel('Epoch')\n",
    "        plt.ylabel(name)\n",
    "        if metric == 'loss':\n",
    "          plt.ylim([0, plt.ylim()[1]])\n",
    "        elif metric == 'auc':\n",
    "          plt.ylim([0.8,1])\n",
    "        else:\n",
    "          plt.ylim([0,1])\n",
    "\n",
    "        plt.legend()\n",
    "\n",
    "def plot_roc(name, labels, predictions, **kwargs):\n",
    "    # Compute ROC curve and ROC area for each class\n",
    "    fpr, tpr, _ = roc_curve(labels, predictions)\n",
    "    roc_auc = auc(fpr, tpr)\n",
    "\n",
    "    # Plot ROC curve\n",
    "    plt.plot(fpr, tpr,\n",
    "             label='ROC curve of class {0} (area = {1:0.2f})'\n",
    "             ''.format(0, roc_auc))\n",
    "    plt.title(name)\n",
    "    plt.plot([0, 1], [0, 1], 'k--')\n",
    "    plt.xlim([0.0, 1.0])\n",
    "    plt.ylim([0.0, 1.05])\n",
    "    plt.show()\n",
    "    \n",
    "    return roc_auc\n",
    "\n"
   ]
  },
  {
   "cell_type": "markdown",
   "metadata": {},
   "source": [
    "# Pre-processing\n",
    "This is informed from EDA performed in R"
   ]
  },
  {
   "cell_type": "code",
   "execution_count": 135,
   "metadata": {},
   "outputs": [],
   "source": [
    "def preprocess(x, params = [None]*len(PREDS_NUM)):\n",
    "    opt_params = [None]*len(PREDS_NUM)\n",
    "    trans = [\"\"]*len(PREDS_NUM)\n",
    "    \n",
    "    N_FEATS = [6,8,12,14,15]\n",
    "    \n",
    "    # Box-cox transform of bat_avg, bat_sr, bowl_avg\n",
    "    for i in N_FEATS:\n",
    "        trans[i] = \"Box-Cox\"\n",
    "        x[:,i], opt_params[i] = boxcox(x[:,i] + 1) if params[i] == None else (boxcox(x[:,i] + 1, params[i]), None)\n",
    "        # Adding shift parameter 1 ensures all data is positive\n",
    "    \n",
    "    # Standardize all \"normal\" features\n",
    "    #x[:,N_FEATS] = (x[:,N_FEATS] - np.mean(x[:,N_FEATS], axis=0)) / np.std(x[:,N_FEATS], axis=0)\n",
    "    \n",
    "    # Normalise all numeric features\n",
    "    x[:,:len(PREDS_NUM)] = normalize(x[:,:len(PREDS_NUM)], axis = 0)\n",
    "    \n",
    "    \n",
    "    return x, DataFrame(data = {'Predictor': PREDS_NUM, 'Transformation': trans, 'Parameters': opt_params})\n",
    "    \n",
    "    "
   ]
  },
  {
   "cell_type": "markdown",
   "metadata": {},
   "source": [
    "# Predicting Wicket"
   ]
  },
  {
   "cell_type": "markdown",
   "metadata": {},
   "source": [
    "## Load data"
   ]
  },
  {
   "cell_type": "code",
   "execution_count": 136,
   "metadata": {},
   "outputs": [],
   "source": [
    "# Load data\n",
    "train_pred = read_csv(\"data/is_wkt_train_preds.csv\")\n",
    "train_out = read_csv(\"data/is_wkt_train_labs.csv\")\n",
    "test_pred = read_csv(\"data/is_wkt_test_preds.csv\")\n",
    "test_out = read_csv(\"data/is_wkt_test_labs.csv\")\n",
    "\n",
    "# Preprocess\n",
    "train_x, trans = preprocess(train_pred.to_numpy())\n",
    "test_x, _ = preprocess(test_pred.to_numpy(), params = trans['Parameters'].tolist())\n",
    "train_y = (train_out.to_numpy())[:,1]\n",
    "test_y = (test_out.to_numpy())[:,1]\n",
    "\n",
    "# Validation set\n",
    "val_prop = int(np.ceil(train_x.shape[0]/10))\n",
    "x_val = train_x[:val_prop]\n",
    "partial_x_train = train_x[val_prop:]\n",
    "y_val = train_y[:val_prop]\n",
    "partial_y_train = train_y[val_prop:]"
   ]
  },
  {
   "cell_type": "code",
   "execution_count": 73,
   "metadata": {},
   "outputs": [
    {
     "data": {
      "text/html": [
       "<div>\n",
       "<style scoped>\n",
       "    .dataframe tbody tr th:only-of-type {\n",
       "        vertical-align: middle;\n",
       "    }\n",
       "\n",
       "    .dataframe tbody tr th {\n",
       "        vertical-align: top;\n",
       "    }\n",
       "\n",
       "    .dataframe thead th {\n",
       "        text-align: right;\n",
       "    }\n",
       "</style>\n",
       "<table border=\"1\" class=\"dataframe\">\n",
       "  <thead>\n",
       "    <tr style=\"text-align: right;\">\n",
       "      <th></th>\n",
       "      <th>Predictor</th>\n",
       "      <th>Transformation</th>\n",
       "      <th>Parameters</th>\n",
       "    </tr>\n",
       "  </thead>\n",
       "  <tbody>\n",
       "    <tr>\n",
       "      <th>0</th>\n",
       "      <td>match_balls</td>\n",
       "      <td></td>\n",
       "      <td>NaN</td>\n",
       "    </tr>\n",
       "    <tr>\n",
       "      <th>1</th>\n",
       "      <td>inn_balls</td>\n",
       "      <td></td>\n",
       "      <td>NaN</td>\n",
       "    </tr>\n",
       "    <tr>\n",
       "      <th>2</th>\n",
       "      <td>team_score</td>\n",
       "      <td></td>\n",
       "      <td>NaN</td>\n",
       "    </tr>\n",
       "    <tr>\n",
       "      <th>3</th>\n",
       "      <td>team_lead</td>\n",
       "      <td></td>\n",
       "      <td>NaN</td>\n",
       "    </tr>\n",
       "    <tr>\n",
       "      <th>4</th>\n",
       "      <td>bat_score</td>\n",
       "      <td></td>\n",
       "      <td>NaN</td>\n",
       "    </tr>\n",
       "    <tr>\n",
       "      <th>5</th>\n",
       "      <td>bat_balls</td>\n",
       "      <td></td>\n",
       "      <td>NaN</td>\n",
       "    </tr>\n",
       "    <tr>\n",
       "      <th>6</th>\n",
       "      <td>bat_avg</td>\n",
       "      <td>Box-Cox</td>\n",
       "      <td>0.576350</td>\n",
       "    </tr>\n",
       "    <tr>\n",
       "      <th>7</th>\n",
       "      <td>career_bat_balls</td>\n",
       "      <td></td>\n",
       "      <td>NaN</td>\n",
       "    </tr>\n",
       "    <tr>\n",
       "      <th>8</th>\n",
       "      <td>bat_sr</td>\n",
       "      <td>Box-Cox</td>\n",
       "      <td>0.625389</td>\n",
       "    </tr>\n",
       "    <tr>\n",
       "      <th>9</th>\n",
       "      <td>bowl_balls</td>\n",
       "      <td></td>\n",
       "      <td>NaN</td>\n",
       "    </tr>\n",
       "    <tr>\n",
       "      <th>10</th>\n",
       "      <td>bowl_runs</td>\n",
       "      <td></td>\n",
       "      <td>NaN</td>\n",
       "    </tr>\n",
       "    <tr>\n",
       "      <th>11</th>\n",
       "      <td>career_bowl_balls</td>\n",
       "      <td></td>\n",
       "      <td>NaN</td>\n",
       "    </tr>\n",
       "    <tr>\n",
       "      <th>12</th>\n",
       "      <td>bowl_avg</td>\n",
       "      <td>Box-Cox</td>\n",
       "      <td>-0.635517</td>\n",
       "    </tr>\n",
       "    <tr>\n",
       "      <th>13</th>\n",
       "      <td>bowl_sr</td>\n",
       "      <td></td>\n",
       "      <td>NaN</td>\n",
       "    </tr>\n",
       "    <tr>\n",
       "      <th>14</th>\n",
       "      <td>seam_factor</td>\n",
       "      <td>Box-Cox</td>\n",
       "      <td>-0.520644</td>\n",
       "    </tr>\n",
       "    <tr>\n",
       "      <th>15</th>\n",
       "      <td>spin_factor</td>\n",
       "      <td>Box-Cox</td>\n",
       "      <td>-3.545954</td>\n",
       "    </tr>\n",
       "  </tbody>\n",
       "</table>\n",
       "</div>"
      ],
      "text/plain": [
       "            Predictor Transformation  Parameters\n",
       "0         match_balls                        NaN\n",
       "1           inn_balls                        NaN\n",
       "2          team_score                        NaN\n",
       "3           team_lead                        NaN\n",
       "4           bat_score                        NaN\n",
       "5           bat_balls                        NaN\n",
       "6             bat_avg        Box-Cox    0.576350\n",
       "7    career_bat_balls                        NaN\n",
       "8              bat_sr        Box-Cox    0.625389\n",
       "9          bowl_balls                        NaN\n",
       "10          bowl_runs                        NaN\n",
       "11  career_bowl_balls                        NaN\n",
       "12           bowl_avg        Box-Cox   -0.635517\n",
       "13            bowl_sr                        NaN\n",
       "14        seam_factor        Box-Cox   -0.520644\n",
       "15        spin_factor        Box-Cox   -3.545954"
      ]
     },
     "execution_count": 73,
     "metadata": {},
     "output_type": "execute_result"
    }
   ],
   "source": [
    "trans"
   ]
  },
  {
   "cell_type": "code",
   "execution_count": 74,
   "metadata": {},
   "outputs": [
    {
     "name": "stdout",
     "output_type": "stream",
     "text": [
      "Training set: (455955, 78)\n",
      "Training set: (151985, 78)\n",
      "\n",
      "Observations under each label\n",
      "  Label  Training  Testing\n",
      "0    no    448563   149621\n",
      "1     W      7392     2364\n"
     ]
    }
   ],
   "source": [
    "# Data dimensions\n",
    "print(\"Training set:\", train_x.shape)\n",
    "print(\"Training set:\", test_x.shape)\n",
    "\n",
    "print(\"\\nObservations under each label\")\n",
    "print(DataFrame({'Label': ['no', 'W'], \n",
    "                 'Training': [train_y.shape[0] - np.sum(train_y), np.sum(train_y)],\n",
    "                 'Testing': [test_y.shape[0] - np.sum(test_y), np.sum(test_y)]}))"
   ]
  },
  {
   "cell_type": "markdown",
   "metadata": {},
   "source": [
    "## Model"
   ]
  },
  {
   "cell_type": "code",
   "execution_count": 117,
   "metadata": {},
   "outputs": [],
   "source": [
    "EPOCHS = 20\n",
    "BATCH_SIZE = 2048\n",
    "\n",
    "\n",
    "def make_model(input_dim, metrics = METRICS, output_bias = None):\n",
    "    if output_bias is not None:\n",
    "        output_bias = initializers.Constant(output_bias)\n",
    "        \n",
    "    model = models.Sequential([\n",
    "    layers.Dense(16, activation='relu', input_shape=(input_dim,)),\n",
    "    #layers.Dropout(0.5),\n",
    "    layers.Dense(1, activation='sigmoid')#,\n",
    " #                    bias_initializer=output_bias)\n",
    "    ])\n",
    "\n",
    "    model.compile(\n",
    "    optimizer='rmsprop',\n",
    "    loss='binary_crossentropy',\n",
    "    metrics=metrics)\n",
    "\n",
    "    return model\n",
    "\n",
    "\n"
   ]
  },
  {
   "cell_type": "code",
   "execution_count": 118,
   "metadata": {},
   "outputs": [],
   "source": [
    "# Compile model\n",
    "neg, pos = np.bincount(partial_y_train)\n",
    "initial_bias = np.log([pos/neg])\n",
    "\n",
    "model = make_model(partial_x_train.shape[1], output_bias = initial_bias)\n",
    "\n",
    "\n"
   ]
  },
  {
   "cell_type": "code",
   "execution_count": 119,
   "metadata": {},
   "outputs": [
    {
     "name": "stdout",
     "output_type": "stream",
     "text": [
      "Epoch 1/20\n",
      "201/201 [==============================] - 1s 6ms/step - loss: 0.6898 - tp: 3537.0000 - fp: 178021.0000 - tn: 270542.0000 - fn: 3855.0000 - accuracy: 0.6011 - precision: 0.0195 - recall: 0.4785 - auc: 0.5560 - val_loss: 0.6596 - val_tp: 345.0000 - val_fp: 14714.0000 - val_tn: 30121.0000 - val_fn: 416.0000 - val_accuracy: 0.6682 - val_precision: 0.0229 - val_recall: 0.4534 - val_auc: 0.5836\n",
      "Epoch 2/20\n",
      "201/201 [==============================] - 1s 4ms/step - loss: 0.6747 - tp: 3187.0000 - fp: 134047.0000 - tn: 269681.0000 - fn: 3444.0000 - accuracy: 0.6649 - precision: 0.0232 - recall: 0.4806 - auc: 0.6039 - val_loss: 0.6939 - val_tp: 408.0000 - val_fp: 17377.0000 - val_tn: 27458.0000 - val_fn: 353.0000 - val_accuracy: 0.6112 - val_precision: 0.0229 - val_recall: 0.5361 - val_auc: 0.5973\n",
      "Epoch 3/20\n",
      "201/201 [==============================] - 1s 4ms/step - loss: 0.6722 - tp: 3216.0000 - fp: 130545.0000 - tn: 273183.0000 - fn: 3415.0000 - accuracy: 0.6736 - precision: 0.0240 - recall: 0.4850 - auc: 0.6099 - val_loss: 0.6377 - val_tp: 306.0000 - val_fp: 11434.0000 - val_tn: 33401.0000 - val_fn: 455.0000 - val_accuracy: 0.7393 - val_precision: 0.0261 - val_recall: 0.4021 - val_auc: 0.6034\n",
      "Epoch 4/20\n",
      "201/201 [==============================] - 1s 4ms/step - loss: 0.6713 - tp: 3090.0000 - fp: 123697.0000 - tn: 280031.0000 - fn: 3541.0000 - accuracy: 0.6899 - precision: 0.0244 - recall: 0.4660 - auc: 0.6129 - val_loss: 0.6972 - val_tp: 399.0000 - val_fp: 16850.0000 - val_tn: 27985.0000 - val_fn: 362.0000 - val_accuracy: 0.6225 - val_precision: 0.0231 - val_recall: 0.5243 - val_auc: 0.6052\n",
      "Epoch 5/20\n",
      "201/201 [==============================] - 1s 4ms/step - loss: 0.6707 - tp: 3114.0000 - fp: 125280.0000 - tn: 278448.0000 - fn: 3517.0000 - accuracy: 0.6861 - precision: 0.0243 - recall: 0.4696 - auc: 0.6143 - val_loss: 0.6639 - val_tp: 352.0000 - val_fp: 13421.0000 - val_tn: 31414.0000 - val_fn: 409.0000 - val_accuracy: 0.6967 - val_precision: 0.0256 - val_recall: 0.4625 - val_auc: 0.6050\n",
      "Epoch 6/20\n",
      "201/201 [==============================] - 1s 4ms/step - loss: 0.6700 - tp: 3132.0000 - fp: 124659.0000 - tn: 279069.0000 - fn: 3499.0000 - accuracy: 0.6877 - precision: 0.0245 - recall: 0.4723 - auc: 0.6163 - val_loss: 0.6746 - val_tp: 367.0000 - val_fp: 14240.0000 - val_tn: 30595.0000 - val_fn: 394.0000 - val_accuracy: 0.6791 - val_precision: 0.0251 - val_recall: 0.4823 - val_auc: 0.6058\n",
      "Epoch 7/20\n",
      "201/201 [==============================] - 1s 4ms/step - loss: 0.6697 - tp: 3135.0000 - fp: 123578.0000 - tn: 280150.0000 - fn: 3496.0000 - accuracy: 0.6903 - precision: 0.0247 - recall: 0.4728 - auc: 0.6185 - val_loss: 0.6636 - val_tp: 355.0000 - val_fp: 13345.0000 - val_tn: 31490.0000 - val_fn: 406.0000 - val_accuracy: 0.6984 - val_precision: 0.0259 - val_recall: 0.4665 - val_auc: 0.6057\n",
      "Epoch 8/20\n",
      "201/201 [==============================] - 1s 4ms/step - loss: 0.6691 - tp: 3146.0000 - fp: 123627.0000 - tn: 280101.0000 - fn: 3485.0000 - accuracy: 0.6902 - precision: 0.0248 - recall: 0.4744 - auc: 0.6200 - val_loss: 0.6781 - val_tp: 376.0000 - val_fp: 14928.0000 - val_tn: 29907.0000 - val_fn: 385.0000 - val_accuracy: 0.6642 - val_precision: 0.0246 - val_recall: 0.4941 - val_auc: 0.6048\n",
      "Epoch 9/20\n",
      "201/201 [==============================] - 1s 3ms/step - loss: 0.6686 - tp: 3169.0000 - fp: 124763.0000 - tn: 278965.0000 - fn: 3462.0000 - accuracy: 0.6875 - precision: 0.0248 - recall: 0.4779 - auc: 0.6214 - val_loss: 0.6418 - val_tp: 323.0000 - val_fp: 11915.0000 - val_tn: 32920.0000 - val_fn: 438.0000 - val_accuracy: 0.7291 - val_precision: 0.0264 - val_recall: 0.4244 - val_auc: 0.6052\n",
      "Epoch 10/20\n",
      "201/201 [==============================] - 1s 4ms/step - loss: 0.6684 - tp: 3138.0000 - fp: 123697.0000 - tn: 280031.0000 - fn: 3493.0000 - accuracy: 0.6901 - precision: 0.0247 - recall: 0.4732 - auc: 0.6222 - val_loss: 0.6473 - val_tp: 331.0000 - val_fp: 12444.0000 - val_tn: 32391.0000 - val_fn: 430.0000 - val_accuracy: 0.7177 - val_precision: 0.0259 - val_recall: 0.4350 - val_auc: 0.6048\n",
      "Epoch 11/20\n",
      "201/201 [==============================] - 1s 3ms/step - loss: 0.6679 - tp: 3206.0000 - fp: 125055.0000 - tn: 278673.0000 - fn: 3425.0000 - accuracy: 0.6869 - precision: 0.0250 - recall: 0.4835 - auc: 0.6239 - val_loss: 0.6727 - val_tp: 374.0000 - val_fp: 14619.0000 - val_tn: 30216.0000 - val_fn: 387.0000 - val_accuracy: 0.6709 - val_precision: 0.0249 - val_recall: 0.4915 - val_auc: 0.6043\n",
      "Epoch 12/20\n",
      "201/201 [==============================] - 1s 4ms/step - loss: 0.6676 - tp: 3193.0000 - fp: 125013.0000 - tn: 278715.0000 - fn: 3438.0000 - accuracy: 0.6870 - precision: 0.0249 - recall: 0.4815 - auc: 0.6247 - val_loss: 0.7032 - val_tp: 419.0000 - val_fp: 17696.0000 - val_tn: 27139.0000 - val_fn: 342.0000 - val_accuracy: 0.6044 - val_precision: 0.0231 - val_recall: 0.5506 - val_auc: 0.6055\n",
      "Epoch 13/20\n",
      "201/201 [==============================] - 1s 4ms/step - loss: 0.6674 - tp: 3244.0000 - fp: 128029.0000 - tn: 275699.0000 - fn: 3387.0000 - accuracy: 0.6798 - precision: 0.0247 - recall: 0.4892 - auc: 0.6255 - val_loss: 0.6493 - val_tp: 335.0000 - val_fp: 12681.0000 - val_tn: 32154.0000 - val_fn: 426.0000 - val_accuracy: 0.7125 - val_precision: 0.0257 - val_recall: 0.4402 - val_auc: 0.6025\n",
      "Epoch 14/20\n",
      "201/201 [==============================] - 1s 4ms/step - loss: 0.6671 - tp: 3193.0000 - fp: 124574.0000 - tn: 279154.0000 - fn: 3438.0000 - accuracy: 0.6880 - precision: 0.0250 - recall: 0.4815 - auc: 0.6262 - val_loss: 0.6617 - val_tp: 352.0000 - val_fp: 13913.0000 - val_tn: 30922.0000 - val_fn: 409.0000 - val_accuracy: 0.6859 - val_precision: 0.0247 - val_recall: 0.4625 - val_auc: 0.6029\n",
      "Epoch 15/20\n",
      "201/201 [==============================] - 1s 4ms/step - loss: 0.6667 - tp: 3279.0000 - fp: 127015.0000 - tn: 276713.0000 - fn: 3352.0000 - accuracy: 0.6823 - precision: 0.0252 - recall: 0.4945 - auc: 0.6276 - val_loss: 0.6515 - val_tp: 338.0000 - val_fp: 13022.0000 - val_tn: 31813.0000 - val_fn: 423.0000 - val_accuracy: 0.7051 - val_precision: 0.0253 - val_recall: 0.4442 - val_auc: 0.6036\n",
      "Epoch 16/20\n",
      "201/201 [==============================] - 1s 4ms/step - loss: 0.6666 - tp: 3229.0000 - fp: 126157.0000 - tn: 277571.0000 - fn: 3402.0000 - accuracy: 0.6843 - precision: 0.0250 - recall: 0.4870 - auc: 0.6281 - val_loss: 0.6857 - val_tp: 393.0000 - val_fp: 16203.0000 - val_tn: 28632.0000 - val_fn: 368.0000 - val_accuracy: 0.6366 - val_precision: 0.0237 - val_recall: 0.5164 - val_auc: 0.6014\n",
      "Epoch 17/20\n",
      "201/201 [==============================] - 1s 4ms/step - loss: 0.6663 - tp: 3281.0000 - fp: 129216.0000 - tn: 274512.0000 - fn: 3350.0000 - accuracy: 0.6770 - precision: 0.0248 - recall: 0.4948 - auc: 0.6287 - val_loss: 0.6407 - val_tp: 325.0000 - val_fp: 12104.0000 - val_tn: 32731.0000 - val_fn: 436.0000 - val_accuracy: 0.7250 - val_precision: 0.0261 - val_recall: 0.4271 - val_auc: 0.6018\n",
      "Epoch 18/20\n",
      "201/201 [==============================] - 1s 4ms/step - loss: 0.6660 - tp: 3251.0000 - fp: 126156.0000 - tn: 277572.0000 - fn: 3380.0000 - accuracy: 0.6843 - precision: 0.0251 - recall: 0.4903 - auc: 0.6299 - val_loss: 0.6648 - val_tp: 354.0000 - val_fp: 14346.0000 - val_tn: 30489.0000 - val_fn: 407.0000 - val_accuracy: 0.6764 - val_precision: 0.0241 - val_recall: 0.4652 - val_auc: 0.6015\n",
      "Epoch 19/20\n",
      "201/201 [==============================] - 1s 4ms/step - loss: 0.6658 - tp: 3299.0000 - fp: 128418.0000 - tn: 275310.0000 - fn: 3332.0000 - accuracy: 0.6789 - precision: 0.0250 - recall: 0.4975 - auc: 0.6304 - val_loss: 0.6324 - val_tp: 310.0000 - val_fp: 11395.0000 - val_tn: 33440.0000 - val_fn: 451.0000 - val_accuracy: 0.7402 - val_precision: 0.0265 - val_recall: 0.4074 - val_auc: 0.6006\n",
      "Epoch 20/20\n",
      "201/201 [==============================] - 1s 3ms/step - loss: 0.6657 - tp: 3298.0000 - fp: 127680.0000 - tn: 276048.0000 - fn: 3333.0000 - accuracy: 0.6807 - precision: 0.0252 - recall: 0.4974 - auc: 0.6304 - val_loss: 0.6470 - val_tp: 335.0000 - val_fp: 12805.0000 - val_tn: 32030.0000 - val_fn: 426.0000 - val_accuracy: 0.7098 - val_precision: 0.0255 - val_recall: 0.4402 - val_auc: 0.5999\n"
     ]
    }
   ],
   "source": [
    "# SCaled weights\n",
    "total = neg + pos\n",
    "weight_for_0 = (1 / neg)*(total)/2.0 \n",
    "weight_for_1 = (1 / pos)*(total)/2.0\n",
    "class_weight = {0: weight_for_0, 1: weight_for_1}\n",
    "\n",
    "history = model.fit(partial_x_train,\n",
    "partial_y_train,\n",
    "epochs=EPOCHS,\n",
    "batch_size=BATCH_SIZE,\n",
    "validation_data=(x_val, y_val),\n",
    "                           class_weight=class_weight)"
   ]
  },
  {
   "cell_type": "code",
   "execution_count": 120,
   "metadata": {},
   "outputs": [
    {
     "name": "stdout",
     "output_type": "stream",
     "text": [
      "Model: \"sequential_9\"\n",
      "_________________________________________________________________\n",
      "Layer (type)                 Output Shape              Param #   \n",
      "=================================================================\n",
      "dense_21 (Dense)             (None, 16)                1264      \n",
      "_________________________________________________________________\n",
      "dense_22 (Dense)             (None, 1)                 17        \n",
      "=================================================================\n",
      "Total params: 1,281\n",
      "Trainable params: 1,281\n",
      "Non-trainable params: 0\n",
      "_________________________________________________________________\n"
     ]
    }
   ],
   "source": [
    "model.summary()"
   ]
  },
  {
   "cell_type": "code",
   "execution_count": 121,
   "metadata": {},
   "outputs": [
    {
     "data": {
      "text/plain": [
       "<matplotlib.legend.Legend at 0x17182218b48>"
      ]
     },
     "execution_count": 121,
     "metadata": {},
     "output_type": "execute_result"
    },
    {
     "data": {
      "image/png": "[encoded data removed]",
      "text/plain": [
       "<Figure size 432x288 with 1 Axes>"
      ]
     },
     "metadata": {
      "needs_background": "light"
     },
     "output_type": "display_data"
    }
   ],
   "source": [
    "plt.plot(history.epoch,  history.history['loss'], label='Train')\n",
    "plt.plot(history.epoch, history.history['val_loss'], linestyle=\"--\", label='Val')\n",
    "plt.xlabel('Epoch')\n",
    "plt.ylabel(\"Training/Validation Loss\")\n",
    "plt.legend()"
   ]
  },
  {
   "cell_type": "code",
   "execution_count": 122,
   "metadata": {},
   "outputs": [
    {
     "data": {
      "text/plain": [
       "<matplotlib.legend.Legend at 0x171804d1988>"
      ]
     },
     "execution_count": 122,
     "metadata": {},
     "output_type": "execute_result"
    },
    {
     "data": {
      "image/png": "[encoded data removed]",
      "text/plain": [
       "<Figure size 432x288 with 1 Axes>"
      ]
     },
     "metadata": {
      "needs_background": "light"
     },
     "output_type": "display_data"
    }
   ],
   "source": [
    "plt.plot(history.epoch,  history.history['auc'], label='Train')\n",
    "plt.plot(history.epoch, history.history['val_auc'], linestyle=\"--\", label='Val')\n",
    "plt.xlabel('Epoch')\n",
    "plt.ylabel(\"Training/Validation AUC\")\n",
    "plt.legend()"
   ]
  },
  {
   "cell_type": "code",
   "execution_count": 123,
   "metadata": {},
   "outputs": [
    {
     "data": {
      "text/plain": [
       "<matplotlib.legend.Legend at 0x17180546e08>"
      ]
     },
     "execution_count": 123,
     "metadata": {},
     "output_type": "execute_result"
    },
    {
     "data": {
      "image/png": "[encoded data removed]",
      "text/plain": [
       "<Figure size 432x288 with 1 Axes>"
      ]
     },
     "metadata": {
      "needs_background": "light"
     },
     "output_type": "display_data"
    }
   ],
   "source": [
    "plt.plot(history.epoch,  history.history['precision'], label='Train')\n",
    "plt.plot(history.epoch, history.history['val_precision'], linestyle=\"--\", label='Val')\n",
    "plt.xlabel('Epoch')\n",
    "plt.ylabel(\"Training/Validation precision\")\n",
    "plt.legend()"
   ]
  },
  {
   "cell_type": "code",
   "execution_count": 124,
   "metadata": {},
   "outputs": [
    {
     "data": {
      "image/png": "[encoded data removed]",
      "text/plain": [
       "<Figure size 432x288 with 1 Axes>"
      ]
     },
     "metadata": {
      "needs_background": "light"
     },
     "output_type": "display_data"
    },
    {
     "name": "stdout",
     "output_type": "stream",
     "text": [
      "Maximum wicket probability: [0.84484756]\n",
      "AUC: 0.6349999881663894\n"
     ]
    }
   ],
   "source": [
    "train_preds = model.predict(partial_x_train)\n",
    "cauc = plot_roc(\"Training set\", partial_y_train, train_preds)\n",
    "print('Maximum wicket probability:', max(train_preds))\n",
    "print('AUC:', cauc)"
   ]
  },
  {
   "cell_type": "code",
   "execution_count": 125,
   "metadata": {},
   "outputs": [
    {
     "data": {
      "image/png": "[encoded data removed]",
      "text/plain": [
       "<Figure size 432x288 with 1 Axes>"
      ]
     },
     "metadata": {
      "needs_background": "light"
     },
     "output_type": "display_data"
    },
    {
     "name": "stdout",
     "output_type": "stream",
     "text": [
      "Maximum wicket probability: [0.8429625]\n",
      "AUC: 0.6050616005962318\n"
     ]
    }
   ],
   "source": [
    "test_preds = model.predict(test_x)\n",
    "cauc = plot_roc(\"Testing Set\", test_y, test_preds)\n",
    "print('Maximum wicket probability:', max(test_preds))\n",
    "print('AUC:', cauc)"
   ]
  },
  {
   "cell_type": "markdown",
   "metadata": {},
   "source": [
    "## Manual Assessment"
   ]
  },
  {
   "cell_type": "code",
   "execution_count": 134,
   "metadata": {},
   "outputs": [
    {
     "data": {
      "text/html": [
       "<div>\n",
       "<style scoped>\n",
       "    .dataframe tbody tr th:only-of-type {\n",
       "        vertical-align: middle;\n",
       "    }\n",
       "\n",
       "    .dataframe tbody tr th {\n",
       "        vertical-align: top;\n",
       "    }\n",
       "\n",
       "    .dataframe thead th {\n",
       "        text-align: right;\n",
       "    }\n",
       "</style>\n",
       "<table border=\"1\" class=\"dataframe\">\n",
       "  <thead>\n",
       "    <tr style=\"text-align: right;\">\n",
       "      <th></th>\n",
       "      <th>Predictor</th>\n",
       "      <th>Transformation</th>\n",
       "      <th>Parameters</th>\n",
       "    </tr>\n",
       "  </thead>\n",
       "  <tbody>\n",
       "    <tr>\n",
       "      <th>0</th>\n",
       "      <td>match_balls</td>\n",
       "      <td></td>\n",
       "      <td>NaN</td>\n",
       "    </tr>\n",
       "    <tr>\n",
       "      <th>1</th>\n",
       "      <td>inn_balls</td>\n",
       "      <td></td>\n",
       "      <td>NaN</td>\n",
       "    </tr>\n",
       "    <tr>\n",
       "      <th>2</th>\n",
       "      <td>team_score</td>\n",
       "      <td></td>\n",
       "      <td>NaN</td>\n",
       "    </tr>\n",
       "    <tr>\n",
       "      <th>3</th>\n",
       "      <td>team_lead</td>\n",
       "      <td></td>\n",
       "      <td>NaN</td>\n",
       "    </tr>\n",
       "    <tr>\n",
       "      <th>4</th>\n",
       "      <td>bat_score</td>\n",
       "      <td></td>\n",
       "      <td>NaN</td>\n",
       "    </tr>\n",
       "    <tr>\n",
       "      <th>5</th>\n",
       "      <td>bat_balls</td>\n",
       "      <td></td>\n",
       "      <td>NaN</td>\n",
       "    </tr>\n",
       "    <tr>\n",
       "      <th>6</th>\n",
       "      <td>bat_avg</td>\n",
       "      <td>Box-Cox</td>\n",
       "      <td>0.576350</td>\n",
       "    </tr>\n",
       "    <tr>\n",
       "      <th>7</th>\n",
       "      <td>career_bat_balls</td>\n",
       "      <td></td>\n",
       "      <td>NaN</td>\n",
       "    </tr>\n",
       "    <tr>\n",
       "      <th>8</th>\n",
       "      <td>bat_sr</td>\n",
       "      <td>Box-Cox</td>\n",
       "      <td>0.625389</td>\n",
       "    </tr>\n",
       "    <tr>\n",
       "      <th>9</th>\n",
       "      <td>bowl_balls</td>\n",
       "      <td></td>\n",
       "      <td>NaN</td>\n",
       "    </tr>\n",
       "    <tr>\n",
       "      <th>10</th>\n",
       "      <td>bowl_runs</td>\n",
       "      <td></td>\n",
       "      <td>NaN</td>\n",
       "    </tr>\n",
       "    <tr>\n",
       "      <th>11</th>\n",
       "      <td>career_bowl_balls</td>\n",
       "      <td></td>\n",
       "      <td>NaN</td>\n",
       "    </tr>\n",
       "    <tr>\n",
       "      <th>12</th>\n",
       "      <td>bowl_avg</td>\n",
       "      <td>Box-Cox</td>\n",
       "      <td>-0.635517</td>\n",
       "    </tr>\n",
       "    <tr>\n",
       "      <th>13</th>\n",
       "      <td>bowl_sr</td>\n",
       "      <td></td>\n",
       "      <td>NaN</td>\n",
       "    </tr>\n",
       "    <tr>\n",
       "      <th>14</th>\n",
       "      <td>seam_factor</td>\n",
       "      <td>Box-Cox</td>\n",
       "      <td>-0.520644</td>\n",
       "    </tr>\n",
       "    <tr>\n",
       "      <th>15</th>\n",
       "      <td>spin_factor</td>\n",
       "      <td>Box-Cox</td>\n",
       "      <td>-3.545954</td>\n",
       "    </tr>\n",
       "  </tbody>\n",
       "</table>\n",
       "</div>"
      ],
      "text/plain": [
       "            Predictor Transformation  Parameters\n",
       "0         match_balls                        NaN\n",
       "1           inn_balls                        NaN\n",
       "2          team_score                        NaN\n",
       "3           team_lead                        NaN\n",
       "4           bat_score                        NaN\n",
       "5           bat_balls                        NaN\n",
       "6             bat_avg        Box-Cox    0.576350\n",
       "7    career_bat_balls                        NaN\n",
       "8              bat_sr        Box-Cox    0.625389\n",
       "9          bowl_balls                        NaN\n",
       "10          bowl_runs                        NaN\n",
       "11  career_bowl_balls                        NaN\n",
       "12           bowl_avg        Box-Cox   -0.635517\n",
       "13            bowl_sr                        NaN\n",
       "14        seam_factor        Box-Cox   -0.520644\n",
       "15        spin_factor        Box-Cox   -3.545954"
      ]
     },
     "execution_count": 134,
     "metadata": {},
     "output_type": "execute_result"
    },
    {
     "data": {
      "image/png": "[encoded data removed]",
      "text/plain": [
       "<Figure size 432x288 with 1 Axes>"
      ]
     },
     "metadata": {
      "needs_background": "light"
     },
     "output_type": "display_data"
    }
   ],
   "source": [
    "##### Wicket probability for batting average\n",
    "bat_avgs = list(range(1,61))\n",
    "\n",
    "bat_avg_data = np.array([test_pred.to_numpy()[1,:],]*len(bat_avgs))\n",
    "bat_avg_data[:,6] = bat_avgs\n",
    "\n",
    "\n",
    "\n",
    "#bat_avg_data,_ = preprocess(bat_avg_data, params = trans['Parameters'].tolist())\n",
    "ba_exp = model.predict(bat_avg_data)\n",
    "plt.plot(bat_avgs, ba_exp)\n",
    "trans"
   ]
  },
  {
   "cell_type": "code",
   "execution_count": 57,
   "metadata": {},
   "outputs": [
    {
     "data": {
      "text/plain": [
       "[<matplotlib.lines.Line2D at 0x212070efac8>]"
      ]
     },
     "execution_count": 57,
     "metadata": {},
     "output_type": "execute_result"
    },
    {
     "data": {
      "image/png": "[encoded data removed]",
      "text/plain": [
       "<Figure size 432x288 with 1 Axes>"
      ]
     },
     "metadata": {
      "needs_background": "light"
     },
     "output_type": "display_data"
    }
   ],
   "source": [
    "##### Wicket probability for innings balls\n",
    "inn_balls = list(range(1000))\n",
    "\n",
    "ind = np.random.choice(test_x_wkt.shape[0], 1)[0]\n",
    "inn_balls_data = np.array([test_pred_wkt.to_numpy()[0,:],]*len(inn_balls))\n",
    "inn_balls_data[:,6] = inn_balls\n",
    "\n",
    "inn_balls_data,_ = preprocess(inn_balls_data, params = trans['Parameters'].tolist())\n",
    "ib_exp = model_wkt.predict(inn_balls_data)\n",
    "plt.plot(inn_balls, ib_exp)"
   ]
  },
  {
   "cell_type": "markdown",
   "metadata": {},
   "source": [
    "# Predicting Outcome"
   ]
  },
  {
   "cell_type": "code",
   "execution_count": null,
   "metadata": {},
   "outputs": [],
   "source": [
    "# Load data\n",
    "train_pred_out = read_csv(\"data/outcome_train_preds.csv\")\n",
    "train_out_out = read_csv(\"data/outcome_train_labs.csv\")\n",
    "test_pred_out = read_csv(\"data/outcome_test_preds.csv\")\n",
    "test_out_out = read_csv(\"data/outcome_test_labs.csv\")\n",
    "\n",
    "train_x_out = train_pred_out.to_numpy()\n",
    "test_x_out = test_pred_out.to_numpy()\n",
    "train_y_out = train_out_out.to_numpy()\n",
    "test_y_out = test_out_out.to_numpy()\n",
    "\n",
    "# Validation set\n",
    "val_prop_out = int(np.ceil(train_x_out.shape[0]/10))\n",
    "x_val_out = train_x_out[:val_prop_out]\n",
    "partial_x_train_out = train_x_out[val_prop_out:]\n",
    "y_val_out = train_y_out[:val_prop_out]\n",
    "partial_y_train_out = train_y_out[val_prop_out:]\n",
    "\n",
    "codes_out = [\"b\", \"lb\", \"nb\", \"off_bat\", \"wd\"]\n",
    "n_classes_out = train_y_out.shape[1]"
   ]
  },
  {
   "cell_type": "code",
   "execution_count": null,
   "metadata": {},
   "outputs": [],
   "source": [
    "# Define model\n",
    "model_out = models.Sequential()\n",
    "model_out.add(layers.Dense(512, activation='relu', input_shape=(train_x_out.shape[1],)))\n",
    "model_out.add(layers.Dense(512, activation='relu'))\n",
    "model_out.add(layers.Dense(n_classes_out, activation='softmax'))\n",
    "\n",
    "# Compile model\n",
    "model_out.compile(optimizer='rmsprop', loss='categorical_crossentropy', metrics=['accuracy'])"
   ]
  },
  {
   "cell_type": "code",
   "execution_count": null,
   "metadata": {},
   "outputs": [],
   "source": [
    "# Train model\n",
    "history_out = model_out.fit(partial_x_train_out,\n",
    "partial_y_train_out,\n",
    "epochs=10,\n",
    "batch_size=512,\n",
    "validation_data=(x_val_out, y_val_out))"
   ]
  },
  {
   "cell_type": "code",
   "execution_count": null,
   "metadata": {},
   "outputs": [],
   "source": [
    "loss = history_out.history['loss']\n",
    "val_loss = history_out.history['val_loss']\n",
    "epochs = range(1, len(loss) + 1)\n",
    "plt.plot(epochs, loss, 'bo', label='Training loss')\n",
    "plt.plot(epochs, val_loss, 'b', label='Validation loss')\n",
    "plt.title('Training and validation loss')\n",
    "plt.xlabel('Epochs')\n",
    "plt.ylabel('Loss')\n",
    "plt.legend()\n",
    "plt.show()"
   ]
  },
  {
   "cell_type": "code",
   "execution_count": null,
   "metadata": {},
   "outputs": [],
   "source": [
    "acc = history_out.history['accuracy']\n",
    "val_acc = history_out.history['val_accuracy']\n",
    "plt.plot(epochs, acc, 'bo', label='Training acc')\n",
    "plt.plot(epochs, val_acc, 'b', label='Validation acc')\n",
    "plt.title('Training and validation accuracy')\n",
    "plt.xlabel('Epochs')\n",
    "plt.ylabel('Accuracy')\n",
    "plt.legend()"
   ]
  },
  {
   "cell_type": "code",
   "execution_count": null,
   "metadata": {},
   "outputs": [],
   "source": [
    "# Predictions on test set\n",
    "test_pred = model_out.predict(test_x_out)\n",
    "\n",
    "# Plot linewidth.\n",
    "lw = 2\n",
    "\n",
    "# Compute ROC curve and ROC area for each class\n",
    "fpr = dict()\n",
    "tpr = dict()\n",
    "roc_auc = dict()\n",
    "for i in range(n_classes_out):\n",
    "    fpr[i], tpr[i], _ = roc_curve(test_y_out[:, i], test_pred[:, i])\n",
    "    roc_auc[i] = auc(fpr[i], tpr[i])\n",
    "\n",
    "\n",
    "\n",
    "# Plot all ROC curves\n",
    "\n",
    "colors = cycle(['aqua', 'darkorange', 'cornflowerblue'])\n",
    "for i, color in zip(range(n_classes_out), colors):\n",
    "    #plt.subplot(11,2,i + 1)\n",
    "    plt.plot(fpr[i], tpr[i], color=color, lw=lw,\n",
    "             label='ROC curve of class {0} (area = {1:0.2f})'\n",
    "             ''.format(i, roc_auc[i]))\n",
    "    plt.title(codes_out[i])\n",
    "    plt.plot([0, 1], [0, 1], 'k--', lw=lw)\n",
    "    plt.xlim([0.0, 1.0])\n",
    "    plt.ylim([0.0, 1.05])\n",
    "    plt.show()\n",
    "    print(codes_out[i], roc_auc[i])\n",
    "    "
   ]
  },
  {
   "cell_type": "code",
   "execution_count": null,
   "metadata": {},
   "outputs": [],
   "source": []
  },
  {
   "cell_type": "code",
   "execution_count": null,
   "metadata": {},
   "outputs": [],
   "source": []
  },
  {
   "cell_type": "markdown",
   "metadata": {},
   "source": [
    "# Ignore, for reference"
   ]
  },
  {
   "cell_type": "code",
   "execution_count": null,
   "metadata": {},
   "outputs": [],
   "source": [
    "# Load data\n",
    "train_pred = read_csv(\"data/bbb_train_preds.csv\")\n",
    "train_out = read_csv(\"data/bbb_train_labs.csv\")\n",
    "test_pred = read_csv(\"data/bbb_test_preds.csv\")\n",
    "test_out = read_csv(\"data/bbb_test_labs.csv\")\n",
    "\n",
    "train_x = train_pred.to_numpy()\n",
    "test_x = test_pred.to_numpy()\n",
    "train_y = train_out.to_numpy()\n",
    "test_y = test_out.to_numpy()\n",
    "\n",
    "# Validation set\n",
    "val_prop = int(np.ceil(train_x.shape[0]/10))\n",
    "x_val = train_x[:val_prop]\n",
    "partial_x_train = train_x[val_prop:]\n",
    "y_val = train_y[:val_prop]\n",
    "partial_y_train = train_y[val_prop:]\n",
    "\n",
    "codes = [\"1\",  \"1b\",  \"1lb\", \"1nb\", \"1wd\", \"2\",   \"2b\",  \"2lb\", \"2nb\", \"2wd\", \"3\",   \"3b\",  \"3lb\", \"4\", \"4b\", \"4lb\", \"5\", \"5nb\", \"5wd\", \"6\", \"W\", \"0\"]\n",
    "n_classes = train_y.shape[1]"
   ]
  },
  {
   "cell_type": "code",
   "execution_count": null,
   "metadata": {},
   "outputs": [],
   "source": [
    "# Define model\n",
    "model = models.Sequential()\n",
    "model.add(layers.Dense(128, activation='relu', input_shape=(train_x.shape[1],)))\n",
    "model.add(layers.Dense(128, activation='relu'))\n",
    "model.add(layers.Dense(128, activation='relu'))\n",
    "model.add(layers.Dense(n_classes, activation='softmax'))\n",
    "\n",
    "# Compile model\n",
    "model.compile(optimizer='rmsprop', loss='categorical_crossentropy', metrics=['accuracy'])"
   ]
  },
  {
   "cell_type": "code",
   "execution_count": null,
   "metadata": {},
   "outputs": [],
   "source": [
    "# Train model\n",
    "history = model.fit(partial_x_train,\n",
    "partial_y_train,\n",
    "epochs=20,\n",
    "batch_size=512,\n",
    "validation_data=(x_val, y_val))"
   ]
  },
  {
   "cell_type": "code",
   "execution_count": null,
   "metadata": {},
   "outputs": [],
   "source": [
    "loss = history.history['loss']\n",
    "val_loss = history.history['val_loss']\n",
    "epochs = range(1, len(loss) + 1)\n",
    "plt.plot(epochs, loss, 'bo', label='Training loss')\n",
    "plt.plot(epochs, val_loss, 'b', label='Validation loss')\n",
    "plt.title('Training and validation loss')\n",
    "plt.xlabel('Epochs')\n",
    "plt.ylabel('Loss')\n",
    "plt.legend()\n",
    "plt.show()"
   ]
  },
  {
   "cell_type": "code",
   "execution_count": null,
   "metadata": {},
   "outputs": [],
   "source": [
    "acc = history.history['accuracy']\n",
    "val_acc = history.history['val_accuracy']\n",
    "plt.plot(epochs, acc, 'bo', label='Training acc')\n",
    "plt.plot(epochs, val_acc, 'b', label='Validation acc')\n",
    "plt.title('Training and validation accuracy')\n",
    "plt.xlabel('Epochs')\n",
    "plt.ylabel('Accuracy')\n",
    "plt.legend()"
   ]
  },
  {
   "cell_type": "code",
   "execution_count": null,
   "metadata": {},
   "outputs": [],
   "source": [
    "# Export model to ONNX\n",
    "output_model_path = \"../backend/models/keras_bbb.onnx\"\n",
    "onnx_model = keras2onnx.convert_keras(model, model.name)\n",
    "keras2onnx.save_model(onnx_model, output_model_path)"
   ]
  },
  {
   "cell_type": "code",
   "execution_count": null,
   "metadata": {},
   "outputs": [],
   "source": [
    "# Predictions on test set\n",
    "test_pred = model.predict(test_x)\n",
    "\n",
    "# Plot linewidth.\n",
    "lw = 2\n",
    "\n",
    "# Compute ROC curve and ROC area for each class\n",
    "fpr = dict()\n",
    "tpr = dict()\n",
    "roc_auc = dict()\n",
    "for i in range(n_classes):\n",
    "    fpr[i], tpr[i], _ = roc_curve(test_y[:, i], test_pred[:, i])\n",
    "    roc_auc[i] = auc(fpr[i], tpr[i])\n",
    "\n",
    "\n",
    "\n",
    "# Plot all ROC curves\n",
    "\n",
    "colors = cycle(['aqua', 'darkorange', 'cornflowerblue'])\n",
    "for i, color in zip(range(n_classes), colors):\n",
    "    #plt.subplot(11,2,i + 1)\n",
    "    plt.plot(fpr[i], tpr[i], color=color, lw=lw,\n",
    "             label='ROC curve of class {0} (area = {1:0.2f})'\n",
    "             ''.format(i, roc_auc[i]))\n",
    "    plt.title(codes[i])\n",
    "    plt.plot([0, 1], [0, 1], 'k--', lw=lw)\n",
    "    plt.xlim([0.0, 1.0])\n",
    "    plt.ylim([0.0, 1.05])\n",
    "    plt.show()\n",
    "    \n",
    "\n",
    "\n"
   ]
  },
  {
   "cell_type": "markdown",
   "metadata": {},
   "source": [
    "# Bootstrapping Fit"
   ]
  },
  {
   "cell_type": "code",
   "execution_count": null,
   "metadata": {},
   "outputs": [],
   "source": []
  }
 ],
 "metadata": {
  "kernelspec": {
   "display_name": "Python 3",
   "language": "python",
   "name": "python3"
  },
  "language_info": {
   "codemirror_mode": {
    "name": "ipython",
    "version": 3
   },
   "file_extension": ".py",
   "mimetype": "text/x-python",
   "name": "python",
   "nbconvert_exporter": "python",
   "pygments_lexer": "ipython3",
   "version": "3.7.6"
  }
 },
 "nbformat": 4,
 "nbformat_minor": 4
}
