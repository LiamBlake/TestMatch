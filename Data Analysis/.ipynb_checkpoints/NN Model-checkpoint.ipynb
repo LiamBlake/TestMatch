{
 "cells": [
  {
   "cell_type": "code",
   "execution_count": null,
   "metadata": {},
   "outputs": [],
   "source": [
    "# Package imports"
   ]
  },
  {
   "cell_type": "code",
   "execution_count": null,
   "metadata": {},
   "outputs": [],
   "source": [
    "# Load data\n",
    "\n",
    "\n",
    "# Shuffle data"
   ]
  },
  {
   "cell_type": "markdown",
   "metadata": {},
   "source": [
    "| Name | Description | Type | Permittable Values|\n",
    "| --- | --- | --- | --- |\n",
    "| ```outcome``` | Outcome of delivery | Factor | 0, 1, 2, 3, 4, 6, 1w, |\n",
    "| ```innings``` | Innings in match |Factor | 1-4 |\n",
    "| ```team_wkts``` | Wickets fallen in innings *before* the delivery is bowled | | 0-9 |\n",
    "| ```team_score``` | Score of batting team *before* the delivery is bowled | | 0+ |\n"
   ]
  },
  {
   "cell_type": "code",
   "execution_count": null,
   "metadata": {},
   "outputs": [],
   "source": []
  }
 ],
 "metadata": {
  "kernelspec": {
   "display_name": "Python 3",
   "language": "python",
   "name": "python3"
  },
  "language_info": {
   "codemirror_mode": {
    "name": "ipython",
    "version": 3
   },
   "file_extension": ".py",
   "mimetype": "text/x-python",
   "name": "python",
   "nbconvert_exporter": "python",
   "pygments_lexer": "ipython3",
   "version": "3.7.4"
  }
 },
 "nbformat": 4,
 "nbformat_minor": 2
}
