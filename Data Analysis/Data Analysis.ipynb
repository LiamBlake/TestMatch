{
 "cells": [
  {
   "cell_type": "code",
   "execution_count": 1,
   "metadata": {},
   "outputs": [
    {
     "name": "stderr",
     "output_type": "stream",
     "text": [
      "Using TensorFlow backend.\n"
     ]
    }
   ],
   "source": [
    "# Package imports\n",
    "from pandas import DataFrame, read_csv\n",
    "from numpy import ceil\n",
    "from keras import models, layers\n",
    "from keras.utils import to_categorical"
   ]
  },
  {
   "cell_type": "code",
   "execution_count": 55,
   "metadata": {},
   "outputs": [
    {
     "name": "stdout",
     "output_type": "stream",
     "text": [
      "No. outcomes in dataset: 16\n",
      "No. training samples: 1052\n",
      "No. test samples: 450\n",
      "[[1 7 424 ... 3 '28.68' 2]\n",
      " [1 5 319 ... 3 '28.68' 2]\n",
      " [1 7 394 ... 2 '44.77' 1]\n",
      " ...\n",
      " [1 2 84 ... 0 '44.77' 1]\n",
      " [1 3 160 ... 1 '44.77' 1]\n",
      " [1 5 248 ... 1 '31.37' 7]]\n"
     ]
    }
   ],
   "source": [
    "# Global variables\n",
    "DIR_DATA = r\"C:\\Users\\liaml\\Dropbox\\Projects\\TestMatch\\Data Analysis\\data\"\n",
    "TRAIN_PROP = 0.7\n",
    "\n",
    "# Load data\n",
    "raw_data = DataFrame()\n",
    "filenames = ['04092019-AUSENG-1AUS', '03122019-NZLENG-1NZL']\n",
    "for f in filenames:\n",
    "    raw_data = raw_data.append(read_csv(DIR_DATA + \"/\" + f + \".csv\"))\n",
    "\n",
    "    \n",
    "# Determine all outcomes present in data\n",
    "OUTCOME_INT = {}\n",
    "ind = 1\n",
    "for o in raw_data['outcome']:\n",
    "    if o not in OUTCOME_INT.keys() and o != 'W':\n",
    "        OUTCOME_INT.update({o: ind})\n",
    "        ind += 1\n",
    "\n",
    "# Ensure wicket is first index\n",
    "OUTCOME_INT.update({'W': 0})\n",
    "\n",
    "# Remove all rows with \"-\"\n",
    "raw_data = raw_data[raw_data.bowl_avg != \"-\"]\n",
    "raw_data = raw_data[raw_data.bat_avg != \"-\"]\n",
    "\n",
    "# Shuffle data and split into training, testing\n",
    "shuffled_data = raw_data.sample(frac=1)\n",
    "break_ind = ceil(TRAIN_PROP*len(shuffled_data.index)).astype(int)\n",
    "train_data = shuffled_data.iloc[:break_ind]\n",
    "test_data = shuffled_data.iloc[break_ind:]\n",
    "\n",
    "print(\"No. outcomes in dataset: %i\" % ind)\n",
    "print(\"No. training samples: %i\" % len(train_data))\n",
    "print(\"No. test samples: %i\" % len(test_data))\n",
    "\n",
    "# Prepare data\n",
    "train_outcome = to_categorical([OUTCOME_INT[o] for o in train_data['outcome'].values])\n",
    "train_input = train_data.drop('outcome', axis=1).values\n",
    "test_outcome = to_categorical([OUTCOME_INT[o] for o in train_data['outcome'].values])\n",
    "test_input = train_data.drop('outcome', axis=1).values\n",
    "print(train_input)\n",
    "\n",
    "# Delete data to save space\n",
    "del raw_data, shuffled_data, break_ind, train_data, test_data"
   ]
  },
  {
   "cell_type": "markdown",
   "metadata": {},
   "source": [
    "## Data Description\n",
    "Each individual delivery in a test match is encapsulated by the following variables:\n",
    "\n",
    "| Name | Description |\n",
    "| --- | --- |\n",
    "| ```outcome``` | Outcome of delivery |\n",
    "| ```dismiss``` | Mode of dimissial, 'no' indicates not out |\n",
    "| ```innings``` | Innings in match |\n",
    "| ```inns_balls``` | Balls bowled in innings *before* the delivery is bowled |\n",
    "| ```team_wkts``` | Wickets fallen in innings before the delivery is bowled |\n",
    "| ```team_score``` | Score of batting team before the delivery is bowled |\n",
    "| ```team_lead``` | Lead of batting team before the delivery is bowled. Negative values indicate a deficit |\n",
    "| ```bat_score``` | Score of batter facing the delivery before it is bowled |\n",
    "| ```bat_balls``` | Number of balls faced by the batter facing the delivery *before* it is bowled |\n",
    "| ```bat_avg``` | Batting average of batter facing the delivery before the start of the match |\n",
    "| ```bat_arm``` | The hand used by the batter facing the delivery |\n",
    "| ```bowl_balls``` | The number of balls bowled (including extras) in the innings by the bowler before the delivery is bowled |\n",
    "| ```bowl_runs``` | The number of runs conceded in the innings by the bowler before the delivery is bowled |\n",
    "| ```bowl_wkts``` | The number of wickets taken in the innings by the bowler before the delivery is bowled |\n",
    "\n",
    "\n",
    "The categorical values with non-numeric levels are encoded as follows:\n",
    "* Outcome of delivery"
   ]
  },
  {
   "cell_type": "code",
   "execution_count": null,
   "metadata": {},
   "outputs": [],
   "source": []
  },
  {
   "cell_type": "markdown",
   "metadata": {},
   "source": [
    "## Possible Loss Functions\n",
    "* **Brier score:** For $N$ samples and $R$ possible classes,\n",
    "    $$\n",
    "        BS = \\frac1N\\sum_{t=1}^N{\\sum_{i=1}^N\\left(f_{i} - o_{ti} \\right)},\n",
    "    $$\n",
    "    where $f_{ti}$ is the predicted probability that sample $t$ is in class $i$, and \n",
    "    $$\n",
    "    o_{ti} = \\begin{cases}\n",
    "        1, & \\text{sample } t \\text{ is actually in class } i, \\\\\n",
    "        0, & \\text{otherwise}.\n",
    "    \\end{cases}\n",
    "    $$\n"
   ]
  },
  {
   "cell_type": "code",
   "execution_count": 58,
   "metadata": {},
   "outputs": [],
   "source": [
    "# Setup model\n",
    "network = models.Sequential()\n",
    "network.add(layers.Dense(416, activation='relu', input_shape=(13,)))\n",
    "network.add(layers.Dense(ind, activation='softmax'))\n",
    "\n",
    "# Compile\n",
    "network.compile(optimizer='rmsprop',\n",
    "                loss='categorical_crossentropy',\n",
    "                metrics=['accuracy'])"
   ]
  },
  {
   "cell_type": "code",
   "execution_count": 61,
   "metadata": {},
   "outputs": [
    {
     "name": "stdout",
     "output_type": "stream",
     "text": [
      "Epoch 1/25\n",
      "1052/1052 [==============================] - 0s 30us/step - loss: 1.0674 - accuracy: 0.6930\n",
      "Epoch 2/25\n",
      "1052/1052 [==============================] - 0s 15us/step - loss: 1.0041 - accuracy: 0.7006\n",
      "Epoch 3/25\n",
      "1052/1052 [==============================] - 0s 30us/step - loss: 1.1189 - accuracy: 0.6863\n",
      "Epoch 4/25\n",
      "1052/1052 [==============================] - 0s 45us/step - loss: 1.0385 - accuracy: 0.6996\n",
      "Epoch 5/25\n",
      "1052/1052 [==============================] - 0s 89us/step - loss: 1.1790 - accuracy: 0.6730\n",
      "Epoch 6/25\n",
      "1052/1052 [==============================] - 0s 30us/step - loss: 1.0336 - accuracy: 0.6949\n",
      "Epoch 7/25\n",
      "1052/1052 [==============================] - 0s 30us/step - loss: 1.0135 - accuracy: 0.7034\n",
      "Epoch 8/25\n",
      "1052/1052 [==============================] - 0s 30us/step - loss: 1.0615 - accuracy: 0.7053\n",
      "Epoch 9/25\n",
      "1052/1052 [==============================] - 0s 15us/step - loss: 1.0781 - accuracy: 0.6949\n",
      "Epoch 10/25\n",
      "1052/1052 [==============================] - 0s 15us/step - loss: 1.0735 - accuracy: 0.6987\n",
      "Epoch 11/25\n",
      "1052/1052 [==============================] - 0s 15us/step - loss: 1.0159 - accuracy: 0.6873\n",
      "Epoch 12/25\n",
      "1052/1052 [==============================] - 0s 15us/step - loss: 1.0748 - accuracy: 0.6702\n",
      "Epoch 13/25\n",
      "1052/1052 [==============================] - 0s 30us/step - loss: 1.0171 - accuracy: 0.6835\n",
      "Epoch 14/25\n",
      "1052/1052 [==============================] - 0s 30us/step - loss: 1.0681 - accuracy: 0.6835\n",
      "Epoch 15/25\n",
      "1052/1052 [==============================] - 0s 15us/step - loss: 0.9944 - accuracy: 0.7082\n",
      "Epoch 16/25\n",
      "1052/1052 [==============================] - 0s 30us/step - loss: 1.0366 - accuracy: 0.6740\n",
      "Epoch 17/25\n",
      "1052/1052 [==============================] - 0s 15us/step - loss: 0.9560 - accuracy: 0.7044\n",
      "Epoch 18/25\n",
      "1052/1052 [==============================] - 0s 30us/step - loss: 1.0812 - accuracy: 0.6578\n",
      "Epoch 19/25\n",
      "1052/1052 [==============================] - 0s 15us/step - loss: 0.9455 - accuracy: 0.7186\n",
      "Epoch 20/25\n",
      "1052/1052 [==============================] - 0s 30us/step - loss: 1.0253 - accuracy: 0.7006\n",
      "Epoch 21/25\n",
      "1052/1052 [==============================] - 0s 15us/step - loss: 1.0036 - accuracy: 0.6968\n",
      "Epoch 22/25\n",
      "1052/1052 [==============================] - 0s 30us/step - loss: 1.0684 - accuracy: 0.6740\n",
      "Epoch 23/25\n",
      "1052/1052 [==============================] - 0s 30us/step - loss: 0.9543 - accuracy: 0.6987\n",
      "Epoch 24/25\n",
      "1052/1052 [==============================] - 0s 15us/step - loss: 1.0342 - accuracy: 0.6901\n",
      "Epoch 25/25\n",
      "1052/1052 [==============================] - 0s 30us/step - loss: 0.9836 - accuracy: 0.7025\n"
     ]
    },
    {
     "data": {
      "text/plain": [
       "<keras.callbacks.callbacks.History at 0x294c909fc88>"
      ]
     },
     "execution_count": 61,
     "metadata": {},
     "output_type": "execute_result"
    }
   ],
   "source": [
    "# Train model\n",
    "network.fit(train_input, train_outcome, epochs=25, batch_size=128)"
   ]
  }
 ],
 "metadata": {
  "kernelspec": {
   "display_name": "Python 3",
   "language": "python",
   "name": "python3"
  },
  "language_info": {
   "codemirror_mode": {
    "name": "ipython",
    "version": 3
   },
   "file_extension": ".py",
   "mimetype": "text/x-python",
   "name": "python",
   "nbconvert_exporter": "python",
   "pygments_lexer": "ipython3",
   "version": "3.7.4"
  }
 },
 "nbformat": 4,
 "nbformat_minor": 2
}
